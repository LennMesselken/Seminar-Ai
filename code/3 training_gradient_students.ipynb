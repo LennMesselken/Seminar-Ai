{
 "cells": [
  {
   "cell_type": "markdown",
   "id": "ccc9a2a8",
   "metadata": {},
   "source": [
    "# Code from precvious chapters\n",
    "Shift-click to execute the cells once such that the functions and variables are known in this workbook "
   ]
  },
  {
   "cell_type": "code",
   "execution_count": 1,
   "id": "829d6861",
   "metadata": {},
   "outputs": [],
   "source": [
    "import numpy as np\n",
    "import matplotlib.pyplot as plt\n",
    "import matplotlib.gridspec as gridspec"
   ]
  },
  {
   "cell_type": "code",
   "execution_count": 2,
   "id": "7bda01e1",
   "metadata": {},
   "outputs": [
    {
     "name": "stdout",
     "output_type": "stream",
     "text": [
      "number of examples: m = 30\n"
     ]
    }
   ],
   "source": [
    "x,y = np.loadtxt('../data/pizza.txt', skiprows=1, unpack=True)\n",
    "m = len(x)\n",
    "print('number of examples: m =',m)\n"
   ]
  },
  {
   "cell_type": "code",
   "execution_count": 3,
   "id": "b799e6f8",
   "metadata": {},
   "outputs": [],
   "source": [
    "def predict(x, w, b):\n",
    "    \"\"\"\n",
    "    Computes the prediction from the input x, weight w and bias b as y_hat = w*x + b.\n",
    "    \n",
    "    parameters:\n",
    "    -----------\n",
    "    X: array\n",
    "        the input (\"feature\") for the prediction, i.e. the nuber of reservations\n",
    "        can be a single number or an array of numbers\n",
    "    w: number \n",
    "        the \"weight\" for this feature in the linear model\n",
    "    b: number\n",
    "        the bias of the linear model\n",
    "    \n",
    "    returns:\n",
    "    --------\n",
    "    y_hat: array \n",
    "        the predictions, i.e. the predicted numbers of pizzas that  will be ordered\n",
    "        the dimensions of y are those of x\n",
    "    \"\"\"\n",
    "    y_hat = w*x + b\n",
    "    return y_hat\n",
    "\n",
    "\n",
    "def loss(y, y_hat):\n",
    "    \"\"\"\n",
    "    Computes the loss as the mean squared difference between predicted and true values. \n",
    "    \n",
    "    parameters:\n",
    "    -----------\n",
    "    y: array \n",
    "        single number or numpy array\n",
    "        the true label values in the list of examples, i.e. the true numbers of reservations\n",
    "    y_hat: array\n",
    "        single number or numpy array\n",
    "        dimensions must mach those of y\n",
    "        the predicted values \n",
    "    \n",
    "    returns:\n",
    "    --------\n",
    "    loss: number\n",
    "        the squared error, i.e. the squared difference between prediction and the prediction, i.e. the predicted number of pizzas that  will be ordered. \n",
    "    \"\"\"\n",
    "    loss = np.mean( (y_hat - y)**2 )\n",
    "    return loss\n",
    "\n",
    "\n",
    "\n",
    "def train_naive(x, y, learning_rate=0.001, max_iterations=10000):\n",
    "    \"\"\"\n",
    "    Trains a linear model. The weight-bias space is explored by \n",
    "        taking steps in the w-direction and the b-direction separately. \n",
    "    If no further improvement is obtained the training stops. \n",
    "    If no stop is reached within the maximum number of iterations\n",
    "        a warning is printed and the current vales are returned.\n",
    "    \n",
    "    parameters:\n",
    "    -----------\n",
    "    x: array \n",
    "        single number or numpy array\n",
    "        the feature values in the training examples\n",
    "    y: array\n",
    "        single number or numpy array\n",
    "        dimensions must mach those of x\n",
    "        the label values in the training examples\n",
    "    learning_rate: number\n",
    "        the learning rate\n",
    "    max_iterations: integer\n",
    "        the maximum number of iterations\n",
    "    \n",
    "    returns:\n",
    "    --------\n",
    "    [w, b, current_loss, i, ws, bs, losses]\n",
    "    w: number \n",
    "        final weight\n",
    "    b: number\n",
    "        final bias\n",
    "    current_loss: number\n",
    "        final loss\n",
    "    i: integer\n",
    "        number of iterations performed\n",
    "    ws: list\n",
    "        weights for all iterations\n",
    "    bs: list\n",
    "        biases for all iterations\n",
    "    losses: list\n",
    "        loss for all iterations\n",
    "    \"\"\"\n",
    "    w = 0 # initial weight\n",
    "    b = 0 # initial bias\n",
    "    \n",
    "    ws = []\n",
    "    bs = []\n",
    "    losses = []\n",
    "    \n",
    "    for i in range(max_iterations):\n",
    "        current_loss = loss(predict(x, w, b), y)\n",
    "        #print('Iteration %4d: , w=%.3f, b=%.3f, current_loss: %.3f' %(i, w, b, current_loss))\n",
    "        \n",
    "        ws.append(w)\n",
    "        bs.append(b)\n",
    "        losses.append(current_loss)\n",
    "        \n",
    "        if loss(predict(x, w+learning_rate, b), y) < current_loss:\n",
    "            w += learning_rate\n",
    "        elif loss(predict(x, w-learning_rate, b), y) < current_loss:\n",
    "            w -= learning_rate\n",
    "        elif loss(predict(x, w, b+learning_rate), y) < current_loss:\n",
    "            b += learning_rate        \n",
    "        elif loss(predict(x, w, b-learning_rate), y) < current_loss:\n",
    "            b -= learning_rate        \n",
    "        else:\n",
    "            return [w, b, current_loss, i, ws, bs, losses]\n",
    "    print('Could not converge in ', max_iterations, 'iterations')\n",
    "    return [w, b, current_loss, i, ws, bs, losses]\n",
    "\n",
    "\n",
    "\n",
    "\n",
    "# ========================================================\n",
    "# ===== AUXILIURY FUNCTIONS FOR PLOTTING \n",
    "# ========================================================\n",
    "\n",
    "def plotpath(ws, bs, losses, X=None, Y=None, step=1, xlabel='weight', ylabel='bias', figsize=(12,4)):\n",
    "    fig = plt.figure(figsize=figsize)\n",
    "    gs = fig.add_gridspec(3, 3)\n",
    "    ax1 = fig.add_subplot(gs[:, 0])\n",
    "    ax2 = fig.add_subplot(gs[0, 1])\n",
    "    ax3 = fig.add_subplot(gs[1, 1])\n",
    "    ax4 = fig.add_subplot(gs[2, 1])\n",
    "    ax5 = fig.add_subplot(gs[:, 2])\n",
    "    \n",
    "    inds = np.arange(len(ws))\n",
    "    \n",
    "    # path in 2d parameter space\n",
    "    ax1.plot(ws[::step], bs[::step], '-')\n",
    "    ax1.set_xlabel(xlabel)\n",
    "    ax1.set_ylabel(ylabel)\n",
    "    ax1.annotate('iterations: {} \\nfinal weight = {:.3f} \\nfinal bias = {:.3f}'.format(len(ws), ws[-1], bs[-1]), (0.5, 0.5), xycoords='axes fraction', va='center')\n",
    "    ax1.grid()\n",
    "    \n",
    "    # weight\n",
    "    ax2.plot(inds[::step], ws[::step])\n",
    "    ax2.set_xlabel('iteration')\n",
    "    ax2.set_ylabel(xlabel)\n",
    "    ax2.grid()\n",
    "\n",
    "    # bias\n",
    "    ax3.plot(inds[::step], bs[::step])\n",
    "    ax3.set_xlabel('iteration')\n",
    "    ax3.set_ylabel(ylabel)\n",
    "    ax3.grid()\n",
    "\n",
    "    # loss\n",
    "    ax4.semilogy(inds[::step], losses[::step])\n",
    "    ax4.set_xlabel('iteration')\n",
    "    ax4.set_ylabel('loss')\n",
    "    ax4.annotate('final loss = %.4f'%losses[-1], (0.5, 0.5), xycoords='axes fraction', va='center')\n",
    "    ax4.grid()\n",
    "\n",
    "    # data and linear fit\n",
    "    if X is not None and Y is not None:\n",
    "        Y_hat = predict(X, ws[-1], bs[-1])\n",
    "        ax5.plot(X,Y,'bo')\n",
    "        ax5.plot(X, Y_hat)\n",
    "        ax5.set_xlabel('feature: number of reservations')\n",
    "        ax5.set_ylabel('label: number of pizzas')\n",
    "        ax5.set_xlim([0, 30]) \n",
    "        ax5.set_ylim([0, 50]) \n",
    "        \n",
    "    plt.tight_layout()\n"
   ]
  },
  {
   "cell_type": "code",
   "execution_count": null,
   "id": "66f13901",
   "metadata": {},
   "outputs": [],
   "source": []
  },
  {
   "cell_type": "markdown",
   "id": "2e7a17f6",
   "metadata": {},
   "source": [
    "# Gradient descent"
   ]
  },
  {
   "cell_type": "code",
   "execution_count": 4,
   "id": "236a42c1",
   "metadata": {},
   "outputs": [],
   "source": [
    "# ==============================================\n",
    "# ===   WRITE YOUR OWN CODE \n",
    "# ==============================================\n",
    "#\n",
    "# no help: write everything yourself, including the docstring\n",
    "#\n",
    "# Level-1-help: copy/paste the docstring from moodle\n",
    "#\n",
    "# Level-2-help: look up the code from the teachers printout\n",
    "\n",
    "def gradient(x, y, w, b):\n",
    "        \n"
   ]
  },
  {
   "cell_type": "code",
   "execution_count": 5,
   "id": "41cf57b8",
   "metadata": {},
   "outputs": [],
   "source": [
    "def train(x, y, lr=0.001, max_iterations=1000):\n",
    "    \n"
   ]
  },
  {
   "cell_type": "code",
   "execution_count": null,
   "id": "02ded3a2",
   "metadata": {},
   "outputs": [],
   "source": []
  },
  {
   "cell_type": "markdown",
   "id": "130f4c3b",
   "metadata": {},
   "source": [
    "# Apply your code\n",
    "\n",
    "## Train your model using gradient descent\n",
    "\n",
    "Call your function train_naive with x and y from the pizza example. You have already imported the text data and assigned the variables x and y above at the beginning of the notebook. \n",
    "\n",
    "Use a learning rate of 0.001 and max_iterations=10000."
   ]
  },
  {
   "cell_type": "code",
   "execution_count": 98,
   "id": "64296423",
   "metadata": {},
   "outputs": [],
   "source": [
    "[w, b, final_loss, last_iteration, ws, bs, losses] = train(x, y, lr=0.001, max_iterations=10000)"
   ]
  },
  {
   "cell_type": "markdown",
   "id": "6bdff76f",
   "metadata": {},
   "source": [
    "## Print the results\n",
    "\n",
    "Ok, did that work? Did anything happen at all? \n",
    "\n",
    "In order to see what happended, we first print stuff as text. \n",
    "\n",
    "Note: The code in the cell below prints data nicely within a string that says what is actually printed. Don't worry about how exactly that works. "
   ]
  },
  {
   "cell_type": "code",
   "execution_count": 6,
   "id": "e9e86f1d",
   "metadata": {},
   "outputs": [
    {
     "ename": "NameError",
     "evalue": "name 'last_iteration' is not defined",
     "output_type": "error",
     "traceback": [
      "\u001b[0;31m---------------------------------------------------------------------------\u001b[0m",
      "\u001b[0;31mNameError\u001b[0m                                 Traceback (most recent call last)",
      "\u001b[0;32m/var/folders/q6/sbgdv2m94mqbdp5j9qrvh86c0000gn/T/ipykernel_35566/2268051205.py\u001b[0m in \u001b[0;36m<module>\u001b[0;34m\u001b[0m\n\u001b[0;32m----> 1\u001b[0;31m \u001b[0mprint\u001b[0m\u001b[0;34m(\u001b[0m\u001b[0;34m'Iteration %4d: , w=%.3f, b=%.3f, current_loss: %.3f'\u001b[0m \u001b[0;34m%\u001b[0m\u001b[0;34m(\u001b[0m\u001b[0mlast_iteration\u001b[0m\u001b[0;34m,\u001b[0m \u001b[0mw\u001b[0m\u001b[0;34m,\u001b[0m \u001b[0mb\u001b[0m\u001b[0;34m,\u001b[0m \u001b[0mfinal_loss\u001b[0m\u001b[0;34m)\u001b[0m\u001b[0;34m)\u001b[0m\u001b[0;34m\u001b[0m\u001b[0;34m\u001b[0m\u001b[0m\n\u001b[0m",
      "\u001b[0;31mNameError\u001b[0m: name 'last_iteration' is not defined"
     ]
    }
   ],
   "source": [
    "print('Iteration %4d: , w=%.3f, b=%.3f, current_loss: %.3f' %(last_iteration, w, b, final_loss))"
   ]
  },
  {
   "cell_type": "markdown",
   "id": "24c64455",
   "metadata": {},
   "source": [
    "## Plot an overview of the training and its result"
   ]
  },
  {
   "cell_type": "code",
   "execution_count": 7,
   "id": "923f1e2f",
   "metadata": {},
   "outputs": [
    {
     "ename": "NameError",
     "evalue": "name 'ws' is not defined",
     "output_type": "error",
     "traceback": [
      "\u001b[0;31m---------------------------------------------------------------------------\u001b[0m",
      "\u001b[0;31mNameError\u001b[0m                                 Traceback (most recent call last)",
      "\u001b[0;32m/var/folders/q6/sbgdv2m94mqbdp5j9qrvh86c0000gn/T/ipykernel_35566/1022389998.py\u001b[0m in \u001b[0;36m<module>\u001b[0;34m\u001b[0m\n\u001b[0;32m----> 1\u001b[0;31m \u001b[0mplotpath\u001b[0m\u001b[0;34m(\u001b[0m\u001b[0mws\u001b[0m\u001b[0;34m,\u001b[0m \u001b[0mbs\u001b[0m\u001b[0;34m,\u001b[0m \u001b[0mlosses\u001b[0m\u001b[0;34m,\u001b[0m \u001b[0mx\u001b[0m\u001b[0;34m,\u001b[0m \u001b[0my\u001b[0m\u001b[0;34m,\u001b[0m \u001b[0mstep\u001b[0m\u001b[0;34m=\u001b[0m\u001b[0;36m1\u001b[0m\u001b[0;34m)\u001b[0m\u001b[0;34m\u001b[0m\u001b[0;34m\u001b[0m\u001b[0m\n\u001b[0m",
      "\u001b[0;31mNameError\u001b[0m: name 'ws' is not defined"
     ]
    }
   ],
   "source": [
    "plotpath(ws, bs, losses, x, y, step=1)"
   ]
  },
  {
   "cell_type": "markdown",
   "id": "319841a4",
   "metadata": {},
   "source": [
    "## Plot a 3D view"
   ]
  },
  {
   "cell_type": "code",
   "execution_count": 101,
   "id": "417a533b",
   "metadata": {},
   "outputs": [],
   "source": [
    "%matplotlib notebook\n",
    "from matplotlib import cm"
   ]
  },
  {
   "cell_type": "code",
   "execution_count": 8,
   "id": "7fb46eb2",
   "metadata": {},
   "outputs": [
    {
     "ename": "NameError",
     "evalue": "name 'cm' is not defined",
     "output_type": "error",
     "traceback": [
      "\u001b[0;31m---------------------------------------------------------------------------\u001b[0m",
      "\u001b[0;31mNameError\u001b[0m                                 Traceback (most recent call last)",
      "\u001b[0;32m/var/folders/q6/sbgdv2m94mqbdp5j9qrvh86c0000gn/T/ipykernel_35566/4036373177.py\u001b[0m in \u001b[0;36m<module>\u001b[0;34m\u001b[0m\n\u001b[1;32m     14\u001b[0m \u001b[0max\u001b[0m\u001b[0;34m.\u001b[0m\u001b[0mset_ylabel\u001b[0m\u001b[0;34m(\u001b[0m\u001b[0;34m'bias'\u001b[0m\u001b[0;34m)\u001b[0m\u001b[0;34m\u001b[0m\u001b[0;34m\u001b[0m\u001b[0m\n\u001b[1;32m     15\u001b[0m \u001b[0max\u001b[0m\u001b[0;34m.\u001b[0m\u001b[0mset_zlabel\u001b[0m\u001b[0;34m(\u001b[0m\u001b[0;34m'loss'\u001b[0m\u001b[0;34m)\u001b[0m\u001b[0;34m\u001b[0m\u001b[0;34m\u001b[0m\u001b[0m\n\u001b[0;32m---> 16\u001b[0;31m \u001b[0max\u001b[0m\u001b[0;34m.\u001b[0m\u001b[0mplot_surface\u001b[0m\u001b[0;34m(\u001b[0m\u001b[0mX\u001b[0m\u001b[0;34m,\u001b[0m\u001b[0mY\u001b[0m\u001b[0;34m,\u001b[0m\u001b[0mZ\u001b[0m\u001b[0;34m,\u001b[0m \u001b[0mlinewidth\u001b[0m\u001b[0;34m=\u001b[0m\u001b[0;36m1\u001b[0m\u001b[0;34m,\u001b[0m \u001b[0mantialiased\u001b[0m\u001b[0;34m=\u001b[0m\u001b[0;32mTrue\u001b[0m\u001b[0;34m,\u001b[0m \u001b[0mcmap\u001b[0m\u001b[0;34m=\u001b[0m\u001b[0mcm\u001b[0m\u001b[0;34m.\u001b[0m\u001b[0mBlues\u001b[0m\u001b[0;34m)\u001b[0m\u001b[0;34m\u001b[0m\u001b[0;34m\u001b[0m\u001b[0m\n\u001b[0m\u001b[1;32m     17\u001b[0m \u001b[0max\u001b[0m\u001b[0;34m.\u001b[0m\u001b[0mplot\u001b[0m\u001b[0;34m(\u001b[0m\u001b[0mws\u001b[0m\u001b[0;34m,\u001b[0m \u001b[0mbs\u001b[0m\u001b[0;34m,\u001b[0m \u001b[0mnp\u001b[0m\u001b[0;34m.\u001b[0m\u001b[0marray\u001b[0m\u001b[0;34m(\u001b[0m\u001b[0mlosses\u001b[0m\u001b[0;34m)\u001b[0m\u001b[0;34m,\u001b[0m \u001b[0;34m'k-o'\u001b[0m\u001b[0;34m,\u001b[0m \u001b[0mlinewidth\u001b[0m\u001b[0;34m=\u001b[0m\u001b[0;36m2\u001b[0m\u001b[0;34m)\u001b[0m\u001b[0;34m\u001b[0m\u001b[0;34m\u001b[0m\u001b[0m\n\u001b[1;32m     18\u001b[0m \u001b[0;31m#ax.view_init(20, 135)\u001b[0m\u001b[0;34m\u001b[0m\u001b[0;34m\u001b[0m\u001b[0m\n",
      "\u001b[0;31mNameError\u001b[0m: name 'cm' is not defined"
     ]
    },
    {
     "data": {
      "image/png": "[encoded data removed]",
      "text/plain": [
       "<Figure size 576x576 with 1 Axes>"
      ]
     },
     "metadata": {
      "needs_background": "light"
     },
     "output_type": "display_data"
    }
   ],
   "source": [
    "ws_pl = np.arange(0, 2.5, 0.02)\n",
    "bs_pl = np.arange(0, 15, 0.2)\n",
    "X, Y = np.meshgrid(ws_pl, bs_pl)\n",
    "\n",
    "Z = np.zeros(X.shape)\n",
    "for i in range(len(ws_pl)):\n",
    "    for j in range(len(bs_pl)):\n",
    "        y_hat = predict(x, ws_pl[i], bs_pl[j])\n",
    "        Z[j,i] = loss(y_hat, y)\n",
    "\n",
    "fig = plt.figure(figsize=(8,8))\n",
    "ax = fig.add_subplot(111, projection='3d', computed_zorder=False)\n",
    "ax.set_xlabel('weight')\n",
    "ax.set_ylabel('bias')\n",
    "ax.set_zlabel('loss')\n",
    "ax.plot_surface(X,Y,Z, linewidth=1, antialiased=True, cmap=cm.Blues)\n",
    "ax.plot(ws, bs, np.array(losses), 'k-o', linewidth=2)\n",
    "#ax.view_init(20, 135)"
   ]
  },
  {
   "cell_type": "code",
   "execution_count": null,
   "id": "a9f00000",
   "metadata": {},
   "outputs": [],
   "source": []
  },
  {
   "cell_type": "code",
   "execution_count": null,
   "id": "8aa36121",
   "metadata": {},
   "outputs": [],
   "source": []
  }
 ],
 "metadata": {
  "kernelspec": {
   "display_name": "Python 3 (ipykernel)",
   "language": "python",
   "name": "python3"
  },
  "language_info": {
   "codemirror_mode": {
    "name": "ipython",
    "version": 3
   },
   "file_extension": ".py",
   "mimetype": "text/x-python",
   "name": "python",
   "nbconvert_exporter": "python",
   "pygments_lexer": "ipython3",
   "version": "3.9.9"
  }
 },
 "nbformat": 4,
 "nbformat_minor": 5
}
