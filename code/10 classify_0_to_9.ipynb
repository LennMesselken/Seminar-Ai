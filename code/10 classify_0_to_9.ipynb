{
 "cells": [
  {
   "cell_type": "code",
   "execution_count": 16,
   "id": "16681b59",
   "metadata": {},
   "outputs": [],
   "source": [
    "import matplotlib \n",
    "from matplotlib import pyplot as plt"
   ]
  },
  {
   "cell_type": "markdown",
   "id": "8acc9a04",
   "metadata": {},
   "source": [
    "# Load MNIST data and encode labels"
   ]
  },
  {
   "cell_type": "code",
   "execution_count": 2,
   "id": "0e325ecd",
   "metadata": {},
   "outputs": [],
   "source": [
    "# An MNIST loader.\n",
    "\n",
    "import numpy as np\n",
    "import gzip\n",
    "import struct\n",
    "\n",
    "\n",
    "def load_images(filename):\n",
    "    # Open and unzip the file of images:\n",
    "    with gzip.open(filename, 'rb') as f:\n",
    "        # Read the header information into a bunch of variables:\n",
    "        _ignored, n_images, columns, rows = struct.unpack('>IIII', f.read(16))\n",
    "        # Read all the pixels into a NumPy array of bytes:\n",
    "        all_pixels = np.frombuffer(f.read(), dtype=np.uint8)\n",
    "        # Reshape the pixels into a matrix where each line is an image:\n",
    "        return all_pixels.reshape(n_images, columns * rows)\n",
    "\n",
    "\n",
    "def prepend_bias(X):\n",
    "    # Insert a column of 1s in the position 0 of X.\n",
    "    # (“axis=1” stands for: “insert a column, not a row”)\n",
    "    return np.insert(X, 0, 1, axis=1)\n",
    "\n",
    "\n",
    "# 60000 images, each 785 elements (1 bias + 28 * 28 pixels)\n",
    "X_train = prepend_bias(load_images(\"../data/mnist/train-images-idx3-ubyte.gz\"))\n",
    "\n",
    "# 10000 images, each 785 elements, with the same structure as X_train\n",
    "X_test = prepend_bias(load_images(\"../data/mnist/t10k-images-idx3-ubyte.gz\"))\n",
    "\n",
    "\n",
    "def load_labels(filename):\n",
    "    # Open and unzip the file of images:\n",
    "    with gzip.open(filename, 'rb') as f:\n",
    "        # Skip the header bytes:\n",
    "        f.read(8)\n",
    "        # Read all the labels into a list:\n",
    "        all_labels = f.read()\n",
    "        # Reshape the list of labels into a one-column matrix:\n",
    "        return np.frombuffer(all_labels, dtype=np.uint8).reshape(-1, 1)\n",
    "\n",
    "\n",
    "def one_hot_encode(Y):\n",
    "    n_labels = Y.shape[0]\n",
    "    n_classes = 10\n",
    "    encoded_Y = np.zeros((n_labels, n_classes))\n",
    "    for i in range(n_labels):\n",
    "        label = Y[i]\n",
    "        encoded_Y[i][label] = 1\n",
    "    return encoded_Y\n",
    "\n",
    "\n",
    "# 60K labels, each a single digit from 0 to 9\n",
    "Y_train_unencoded = load_labels(\"../data/mnist/train-labels-idx1-ubyte.gz\")\n",
    "\n",
    "# 60K labels, each consisting of 10 one-hot encoded elements\n",
    "Y_train = one_hot_encode(Y_train_unencoded)\n",
    "\n",
    "# 10000 labels, each a single digit from 0 to 9\n",
    "Y_test = load_labels(\"../data/mnist/t10k-labels-idx1-ubyte.gz\")"
   ]
  },
  {
   "cell_type": "code",
   "execution_count": 12,
   "id": "e8ab66b7",
   "metadata": {},
   "outputs": [
    {
     "ename": "NameError",
     "evalue": "name 'data' is not defined",
     "output_type": "error",
     "traceback": [
      "\u001b[0;31m---------------------------------------------------------------------------\u001b[0m",
      "\u001b[0;31mNameError\u001b[0m                                 Traceback (most recent call last)",
      "\u001b[0;32m/var/folders/q6/sbgdv2m94mqbdp5j9qrvh86c0000gn/T/ipykernel_8675/377015462.py\u001b[0m in \u001b[0;36m<module>\u001b[0;34m\u001b[0m\n\u001b[0;32m----> 1\u001b[0;31m \u001b[0mdata\u001b[0m\u001b[0;34m.\u001b[0m\u001b[0mY_train_unencoded\u001b[0m\u001b[0;34m\u001b[0m\u001b[0;34m\u001b[0m\u001b[0m\n\u001b[0m",
      "\u001b[0;31mNameError\u001b[0m: name 'data' is not defined"
     ]
    }
   ],
   "source": [
    "data.Y_train_unencoded"
   ]
  },
  {
   "cell_type": "code",
   "execution_count": 10,
   "id": "0e0b5ba0",
   "metadata": {},
   "outputs": [
    {
     "data": {
      "text/plain": [
       "array([[0., 0., 0., 0., 0., 1., 0., 0., 0., 0.],\n",
       "       [1., 0., 0., 0., 0., 0., 0., 0., 0., 0.],\n",
       "       [0., 0., 0., 0., 1., 0., 0., 0., 0., 0.],\n",
       "       [0., 1., 0., 0., 0., 0., 0., 0., 0., 0.],\n",
       "       [0., 0., 0., 0., 0., 0., 0., 0., 0., 1.]])"
      ]
     },
     "execution_count": 10,
     "metadata": {},
     "output_type": "execute_result"
    }
   ],
   "source": [
    "# display the first five examples of encoded labels\n",
    "# each row is one example \n",
    "# the column index with the 1 corresponds to the label \n",
    "# example 1 has the 1 one column 5, hece the label is '5' (the picture represens a handwritten five)\n",
    "Y_train[0:5,:]"
   ]
  },
  {
   "cell_type": "markdown",
   "id": "98e9c827",
   "metadata": {},
   "source": [
    "# Function for machine learning"
   ]
  },
  {
   "cell_type": "code",
   "execution_count": 11,
   "id": "d850a418",
   "metadata": {},
   "outputs": [],
   "source": [
    "def sigmoid(x):\n",
    "    return 1 / (1 + np.exp(-x))\n",
    "\n",
    "def forward(X, w):\n",
    "    \"\"\"\n",
    "    X*w -> elementwise sigmoid function\n",
    "    \n",
    "    parameters:\n",
    "    -----------\n",
    "    X: matrix, num_examples -by- num_variables\n",
    "    w: matrix, num_variables -by- num_classes\n",
    "    \n",
    "    returns:\n",
    "    --------\n",
    "    matrix, num_examples -by- num_classes\n",
    "    \"\"\"\n",
    "    weighted_sum = np.matmul(X, w)\n",
    "    return sigmoid(weighted_sum)\n",
    "\n",
    "def classify(X, w):\n",
    "    y_hat = forward(X, w)\n",
    "    labels = np.argmax(y_hat, axis=1)\n",
    "    return labels.reshape(-1, 1)\n",
    "\n",
    "def loss(X, Y, w):\n",
    "    y = forward(X, w)\n",
    "    return -np.sum( Y*np.log(y) + (1-Y)*np.log(1-y))\n",
    "\n",
    "def gradient(X, Y, w):\n",
    "    return np.matmul(X.T, (forward(X, w)-Y)) / X.shape[0]\n",
    "\n",
    "def report(iteration, X_train, Y_train, X_test, Y_test, w):\n",
    "    matches = np.count_nonzero(classify(X_test, w) == Y_test)\n",
    "    n_test_ex = Y_test.shape[0]\n",
    "    matches = matches * 100.0 / n_test_ex\n",
    "    training_loss = loss(X_train, Y_train, w)\n",
    "    print('iteration {} - loss: {:.2f}, matches: {:.2f}%'.format(iteration, training_loss, matches))\n",
    "\n",
    "def train(X_train, Y_train, X_test, Y_test, iterations, lr):\n",
    "    w = np.zeros((X_train.shape[1], Y_train.shape[1]))\n",
    "    for i in range(iterations):\n",
    "        report(i, X_train, Y_train, X_test, Y_test, w)\n",
    "        w -= gradient(X_train, Y_train, w) * lr\n",
    "    #report(i, X_train, Y_train, X_test, Y_test, w)\n",
    "    return w"
   ]
  },
  {
   "cell_type": "code",
   "execution_count": null,
   "id": "bc67766b",
   "metadata": {},
   "outputs": [],
   "source": []
  },
  {
   "cell_type": "markdown",
   "id": "cfa12579",
   "metadata": {},
   "source": [
    "# Apply the code"
   ]
  },
  {
   "cell_type": "code",
   "execution_count": 57,
   "id": "5f3423bc",
   "metadata": {},
   "outputs": [
    {
     "name": "stdout",
     "output_type": "stream",
     "text": [
      "iteration 0 - loss: 415888.31, matches: 9.80%\n",
      "iteration 1 - loss: 506067.41, matches: 68.04%\n",
      "iteration 2 - loss: 330722.85, matches: 68.10%\n",
      "iteration 3 - loss: 177412.20, matches: 68.62%\n",
      "iteration 4 - loss: 113912.33, matches: 73.75%\n",
      "iteration 5 - loss: 105349.73, matches: 81.99%\n",
      "iteration 6 - loss: 100492.88, matches: 81.25%\n",
      "iteration 7 - loss: 97432.51, matches: 82.89%\n",
      "iteration 8 - loss: 93916.83, matches: 82.69%\n",
      "iteration 9 - loss: 91756.16, matches: 83.61%\n"
     ]
    }
   ],
   "source": [
    "w = train(X_train, Y_train, X_test, Y_test, iterations=10, lr=1e-5)"
   ]
  },
  {
   "cell_type": "markdown",
   "id": "d37976bb",
   "metadata": {},
   "source": [
    "## check some examples"
   ]
  },
  {
   "cell_type": "code",
   "execution_count": 50,
   "id": "f9c09499",
   "metadata": {},
   "outputs": [
    {
     "data": {
      "image/png": "[encoded data removed]",
      "text/plain": [
       "<Figure size 432x288 with 1 Axes>"
      ]
     },
     "metadata": {
      "needs_background": "light"
     },
     "output_type": "display_data"
    }
   ],
   "source": [
    "def plot_ex(ex_ind):\n",
    "    plt.imshow(255 - X_train[ex_ind, 1:].reshape(28,28), cmap = 'gray')\n",
    "    classification = classify(X_train[ex_ind:ex_ind+1], w)[0,0]\n",
    "    plt.title('label={} \\nclassified as {}'.format(Y_train_unencoded[ex_ind,0], classification))\n",
    "    \n",
    "ex_ind = 2 # which example\n",
    "plot_ex(ex_ind)"
   ]
  },
  {
   "cell_type": "code",
   "execution_count": 51,
   "id": "10f08256",
   "metadata": {},
   "outputs": [
    {
     "data": {
      "image/png": "[encoded data removed]",
      "text/plain": [
       "<Figure size 1440x216 with 10 Axes>"
      ]
     },
     "metadata": {
      "needs_background": "light"
     },
     "output_type": "display_data"
    }
   ],
   "source": [
    "# show many examples\n",
    "plt.figure(figsize=(20, 3))\n",
    "for i in range(10):\n",
    "    plt.subplot(1,10,i+1)\n",
    "    plot_ex(i)\n"
   ]
  },
  {
   "cell_type": "code",
   "execution_count": 58,
   "id": "aa71e1d0",
   "metadata": {},
   "outputs": [
    {
     "data": {
      "image/png": "[encoded data removed]",
      "text/plain": [
       "<Figure size 216x216 with 1 Axes>"
      ]
     },
     "metadata": {
      "needs_background": "light"
     },
     "output_type": "display_data"
    },
    {
     "data": {
      "image/png": "[encoded data removed]",
      "text/plain": [
       "<Figure size 1440x216 with 10 Axes>"
      ]
     },
     "metadata": {
      "needs_background": "light"
     },
     "output_type": "display_data"
    }
   ],
   "source": [
    "# for one example show the weights for all classes as well\n",
    "\n",
    "plt.figure(figsize=(3, 3))\n",
    "plot_ex(ex_ind)\n",
    "\n",
    "plt.figure(figsize=(20, 3))\n",
    "for i in range(10):\n",
    "    ww = w[1:,i].reshape(28, 28)\n",
    "    plt.subplot(1,10,i+1)\n",
    "    plt.imshow(ww)"
   ]
  },
  {
   "cell_type": "markdown",
   "id": "8cd458be",
   "metadata": {},
   "source": [
    "Explain, why the weight matrixes look the way they do"
   ]
  },
  {
   "cell_type": "code",
   "execution_count": null,
   "id": "aa7ac717",
   "metadata": {},
   "outputs": [],
   "source": []
  }
 ],
 "metadata": {
  "kernelspec": {
   "display_name": "Python 3 (ipykernel)",
   "language": "python",
   "name": "python3"
  },
  "language_info": {
   "codemirror_mode": {
    "name": "ipython",
    "version": 3
   },
   "file_extension": ".py",
   "mimetype": "text/x-python",
   "name": "python",
   "nbconvert_exporter": "python",
   "pygments_lexer": "ipython3",
   "version": "3.9.9"
  }
 },
 "nbformat": 4,
 "nbformat_minor": 5
}
