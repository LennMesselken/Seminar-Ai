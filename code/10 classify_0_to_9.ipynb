{
 "cells": [
  {
   "cell_type": "code",
   "execution_count": 10,
   "id": "16681b59",
   "metadata": {},
   "outputs": [],
   "source": [
    "import matplotlib \n",
    "from matplotlib import pyplot as plt"
   ]
  },
  {
   "cell_type": "markdown",
   "id": "8acc9a04",
   "metadata": {},
   "source": [
    "# Load MNIST data and encode labels"
   ]
  },
  {
   "cell_type": "code",
   "execution_count": 5,
   "id": "0e325ecd",
   "metadata": {},
   "outputs": [],
   "source": [
    "# An MNIST loader.\n",
    "\n",
    "import numpy as np\n",
    "import gzip\n",
    "import struct\n",
    "\n",
    "\n",
    "def load_images(filename):\n",
    "    # Open and unzip the file of images:\n",
    "    with gzip.open(filename, 'rb') as f:\n",
    "        # Read the header information into a bunch of variables:\n",
    "        _ignored, n_images, columns, rows = struct.unpack('>IIII', f.read(16))\n",
    "        # Read all the pixels into a NumPy array of bytes:\n",
    "        all_pixels = np.frombuffer(f.read(), dtype=np.uint8)\n",
    "        # Reshape the pixels into a matrix where each line is an image:\n",
    "        return all_pixels.reshape(n_images, columns * rows)\n",
    "\n",
    "\n",
    "def prepend_bias(X):\n",
    "    # Insert a column of 1s in the position 0 of X.\n",
    "    # (“axis=1” stands for: “insert a column, not a row”)\n",
    "    return np.insert(X, 0, 1, axis=1)\n",
    "\n",
    "\n",
    "# 60000 images, each 785 elements (1 bias + 28 * 28 pixels)\n",
    "X_train = prepend_bias(load_images(\"../data/train-images-idx3-ubyte.gz\"))\n",
    "\n",
    "# 10000 images, each 785 elements, with the same structure as X_train\n",
    "X_test = prepend_bias(load_images(\"../data/t10k-images-idx3-ubyte.gz\"))\n",
    "\n",
    "\n",
    "def load_labels(filename):\n",
    "    # Open and unzip the file of images:\n",
    "    with gzip.open(filename, 'rb') as f:\n",
    "        # Skip the header bytes:\n",
    "        f.read(8)\n",
    "        # Read all the labels into a list:\n",
    "        all_labels = f.read()\n",
    "        # Reshape the list of labels into a one-column matrix:\n",
    "        return np.frombuffer(all_labels, dtype=np.uint8).reshape(-1, 1)\n",
    "\n",
    "\n",
    "def one_hot_encode(Y):\n",
    "    n_labels = Y.shape[0]\n",
    "    n_classes = 10\n",
    "    encoded_Y = np.zeros((n_labels, n_classes))\n",
    "    for i in range(n_labels):\n",
    "        label = Y[i]\n",
    "        encoded_Y[i][label] = 1\n",
    "    return encoded_Y\n",
    "\n",
    "\n",
    "# 60K labels, each a single digit from 0 to 9\n",
    "Y_train_unencoded = load_labels(\"../data/train-labels-idx1-ubyte.gz\")\n",
    "\n",
    "# 60K labels, each consisting of 10 one-hot encoded elements\n",
    "Y_train = one_hot_encode(Y_train_unencoded)\n",
    "\n",
    "# 10000 labels, each a single digit from 0 to 9\n",
    "Y_test = load_labels(\"../data/t10k-labels-idx1-ubyte.gz\")"
   ]
  },
  {
   "cell_type": "code",
   "execution_count": 14,
   "id": "e8ab66b7",
   "metadata": {},
   "outputs": [
    {
     "data": {
      "text/plain": [
       "array([[5],\n",
       "       [0],\n",
       "       [4],\n",
       "       ...,\n",
       "       [5],\n",
       "       [6],\n",
       "       [8]], dtype=uint8)"
      ]
     },
     "execution_count": 14,
     "metadata": {},
     "output_type": "execute_result"
    }
   ],
   "source": [
    "Y_train_unencoded"
   ]
  },
  {
   "cell_type": "code",
   "execution_count": 15,
   "id": "0e0b5ba0",
   "metadata": {},
   "outputs": [
    {
     "data": {
      "text/plain": [
       "array([[0., 0., 0., 0., 0., 1., 0., 0., 0., 0.],\n",
       "       [1., 0., 0., 0., 0., 0., 0., 0., 0., 0.],\n",
       "       [0., 0., 0., 0., 1., 0., 0., 0., 0., 0.],\n",
       "       [0., 1., 0., 0., 0., 0., 0., 0., 0., 0.],\n",
       "       [0., 0., 0., 0., 0., 0., 0., 0., 0., 1.]])"
      ]
     },
     "execution_count": 15,
     "metadata": {},
     "output_type": "execute_result"
    }
   ],
   "source": [
    "# display the first five examples of encoded labels\n",
    "# each row is one example \n",
    "# the column index with the 1 corresponds to the label \n",
    "# example 1 has the 1 one column 5, hece the label is '5' (the picture represens a handwritten five)\n",
    "Y_train[0:5,:]"
   ]
  },
  {
   "cell_type": "markdown",
   "id": "98e9c827",
   "metadata": {},
   "source": [
    "# Function for machine learning"
   ]
  },
  {
   "cell_type": "code",
   "execution_count": 16,
   "id": "d850a418",
   "metadata": {},
   "outputs": [],
   "source": [
    "def sigmoid(x):\n",
    "    return 1 / (1 + np.exp(-x))\n",
    "\n",
    "def forward(X, w):\n",
    "    \"\"\"\n",
    "    X*w -> elementwise sigmoid function\n",
    "    \n",
    "    parameters:\n",
    "    -----------\n",
    "    X: matrix, num_examples -by- num_variables\n",
    "    w: matrix, num_variables -by- num_classes\n",
    "    \n",
    "    returns:\n",
    "    --------\n",
    "    matrix, num_examples -by- num_classes\n",
    "    \"\"\"\n",
    "    weighted_sum = np.matmul(X, w)\n",
    "    return sigmoid(weighted_sum)\n",
    "\n",
    "def classify(X, w):\n",
    "    y_hat = forward(X, w)\n",
    "    labels = np.argmax(y_hat, axis=1)\n",
    "    return labels.reshape(-1, 1)\n",
    "\n",
    "def loss(X, Y, w):\n",
    "    y = forward(X, w)\n",
    "    return -np.sum( Y*np.log(y) + (1-Y)*np.log(1-y))\n",
    "\n",
    "def gradient(X, Y, w):\n",
    "    return np.matmul(X.T, (forward(X, w)-Y)) / X.shape[0]\n",
    "\n",
    "def report(iteration, X_train, Y_train, X_test, Y_test, w):\n",
    "    matches = np.count_nonzero(classify(X_test, w) == Y_test)\n",
    "    n_test_ex = Y_test.shape[0]\n",
    "    matches = matches * 100.0 / n_test_ex\n",
    "    training_loss = loss(X_train, Y_train, w)\n",
    "    print('iteration {} - loss: {:.2f}, matches: {:.2f}%'.format(iteration, training_loss, matches))\n",
    "\n",
    "def train(X_train, Y_train, X_test, Y_test, iterations, lr):\n",
    "    w = np.zeros((X_train.shape[1], Y_train.shape[1]))\n",
    "    for i in range(iterations):\n",
    "        report(i, X_train, Y_train, X_test, Y_test, w)\n",
    "        w -= gradient(X_train, Y_train, w) * lr\n",
    "    #report(i, X_train, Y_train, X_test, Y_test, w)\n",
    "    return w"
   ]
  },
  {
   "cell_type": "code",
   "execution_count": null,
   "id": "bc67766b",
   "metadata": {},
   "outputs": [],
   "source": []
  },
  {
   "cell_type": "markdown",
   "id": "cfa12579",
   "metadata": {},
   "source": [
    "# Apply the code"
   ]
  },
  {
   "cell_type": "code",
   "execution_count": 23,
   "id": "5f3423bc",
   "metadata": {},
   "outputs": [
    {
     "name": "stdout",
     "output_type": "stream",
     "text": [
      "iteration 0 - loss: 415888.31, matches: 9.80%\n",
      "iteration 1 - loss: 506067.41, matches: 68.04%\n",
      "iteration 2 - loss: 330722.85, matches: 68.10%\n",
      "iteration 3 - loss: 177412.20, matches: 68.62%\n",
      "iteration 4 - loss: 113912.33, matches: 73.75%\n",
      "iteration 5 - loss: 105349.73, matches: 81.99%\n",
      "iteration 6 - loss: 100492.88, matches: 81.25%\n",
      "iteration 7 - loss: 97432.51, matches: 82.89%\n",
      "iteration 8 - loss: 93916.83, matches: 82.69%\n",
      "iteration 9 - loss: 91756.16, matches: 83.61%\n",
      "iteration 10 - loss: 89009.81, matches: 83.55%\n",
      "iteration 11 - loss: 87284.34, matches: 84.30%\n",
      "iteration 12 - loss: 85127.07, matches: 84.27%\n",
      "iteration 13 - loss: 83655.39, matches: 84.84%\n",
      "iteration 14 - loss: 81956.11, matches: 84.96%\n",
      "iteration 15 - loss: 80675.25, matches: 85.34%\n",
      "iteration 16 - loss: 79321.19, matches: 85.40%\n",
      "iteration 17 - loss: 78207.81, matches: 85.81%\n",
      "iteration 18 - loss: 77107.03, matches: 85.86%\n",
      "iteration 19 - loss: 76144.10, matches: 86.18%\n",
      "iteration 20 - loss: 75226.97, matches: 86.22%\n",
      "iteration 21 - loss: 74393.78, matches: 86.55%\n",
      "iteration 22 - loss: 73610.81, matches: 86.51%\n",
      "iteration 23 - loss: 72884.43, matches: 86.74%\n",
      "iteration 24 - loss: 72202.07, matches: 86.75%\n",
      "iteration 25 - loss: 71561.67, matches: 86.87%\n",
      "iteration 26 - loss: 70957.61, matches: 86.93%\n",
      "iteration 27 - loss: 70386.80, matches: 87.06%\n",
      "iteration 28 - loss: 69845.98, matches: 87.10%\n",
      "iteration 29 - loss: 69332.60, matches: 87.21%\n",
      "iteration 30 - loss: 68844.38, matches: 87.29%\n",
      "iteration 31 - loss: 68379.34, matches: 87.37%\n",
      "iteration 32 - loss: 67935.73, matches: 87.37%\n",
      "iteration 33 - loss: 67512.01, matches: 87.42%\n",
      "iteration 34 - loss: 67106.75, matches: 87.45%\n",
      "iteration 35 - loss: 66718.71, matches: 87.56%\n",
      "iteration 36 - loss: 66346.74, matches: 87.65%\n",
      "iteration 37 - loss: 65989.78, matches: 87.68%\n",
      "iteration 38 - loss: 65646.89, matches: 87.73%\n",
      "iteration 39 - loss: 65317.20, matches: 87.77%\n",
      "iteration 40 - loss: 64999.91, matches: 87.81%\n",
      "iteration 41 - loss: 64694.28, matches: 87.87%\n",
      "iteration 42 - loss: 64399.64, matches: 87.94%\n",
      "iteration 43 - loss: 64115.37, matches: 87.99%\n",
      "iteration 44 - loss: 63840.89, matches: 88.06%\n",
      "iteration 45 - loss: 63575.67, matches: 88.09%\n",
      "iteration 46 - loss: 63319.21, matches: 88.14%\n",
      "iteration 47 - loss: 63071.06, matches: 88.21%\n",
      "iteration 48 - loss: 62830.79, matches: 88.25%\n",
      "iteration 49 - loss: 62598.00, matches: 88.28%\n",
      "iteration 50 - loss: 62372.33, matches: 88.30%\n",
      "iteration 51 - loss: 62153.43, matches: 88.33%\n",
      "iteration 52 - loss: 61940.97, matches: 88.35%\n",
      "iteration 53 - loss: 61734.66, matches: 88.39%\n",
      "iteration 54 - loss: 61534.20, matches: 88.40%\n",
      "iteration 55 - loss: 61339.35, matches: 88.43%\n",
      "iteration 56 - loss: 61149.84, matches: 88.47%\n",
      "iteration 57 - loss: 60965.44, matches: 88.50%\n",
      "iteration 58 - loss: 60785.94, matches: 88.57%\n",
      "iteration 59 - loss: 60611.12, matches: 88.66%\n",
      "iteration 60 - loss: 60440.79, matches: 88.66%\n",
      "iteration 61 - loss: 60274.77, matches: 88.68%\n",
      "iteration 62 - loss: 60112.88, matches: 88.71%\n",
      "iteration 63 - loss: 59954.95, matches: 88.76%\n",
      "iteration 64 - loss: 59800.83, matches: 88.80%\n",
      "iteration 65 - loss: 59650.38, matches: 88.86%\n",
      "iteration 66 - loss: 59503.45, matches: 88.89%\n",
      "iteration 67 - loss: 59359.91, matches: 88.94%\n",
      "iteration 68 - loss: 59219.63, matches: 88.97%\n",
      "iteration 69 - loss: 59082.50, matches: 88.99%\n",
      "iteration 70 - loss: 58948.39, matches: 89.03%\n",
      "iteration 71 - loss: 58817.22, matches: 89.04%\n",
      "iteration 72 - loss: 58688.86, matches: 89.08%\n",
      "iteration 73 - loss: 58563.22, matches: 89.12%\n",
      "iteration 74 - loss: 58440.22, matches: 89.12%\n",
      "iteration 75 - loss: 58319.75, matches: 89.14%\n",
      "iteration 76 - loss: 58201.74, matches: 89.14%\n",
      "iteration 77 - loss: 58086.10, matches: 89.17%\n",
      "iteration 78 - loss: 57972.76, matches: 89.19%\n",
      "iteration 79 - loss: 57861.65, matches: 89.22%\n",
      "iteration 80 - loss: 57752.68, matches: 89.22%\n",
      "iteration 81 - loss: 57645.80, matches: 89.22%\n",
      "iteration 82 - loss: 57540.94, matches: 89.24%\n",
      "iteration 83 - loss: 57438.04, matches: 89.24%\n",
      "iteration 84 - loss: 57337.04, matches: 89.27%\n",
      "iteration 85 - loss: 57237.88, matches: 89.27%\n",
      "iteration 86 - loss: 57140.51, matches: 89.29%\n",
      "iteration 87 - loss: 57044.87, matches: 89.29%\n",
      "iteration 88 - loss: 56950.92, matches: 89.32%\n",
      "iteration 89 - loss: 56858.60, matches: 89.32%\n",
      "iteration 90 - loss: 56767.87, matches: 89.31%\n",
      "iteration 91 - loss: 56678.69, matches: 89.33%\n",
      "iteration 92 - loss: 56591.01, matches: 89.33%\n",
      "iteration 93 - loss: 56504.79, matches: 89.33%\n",
      "iteration 94 - loss: 56419.99, matches: 89.33%\n",
      "iteration 95 - loss: 56336.58, matches: 89.34%\n",
      "iteration 96 - loss: 56254.51, matches: 89.35%\n",
      "iteration 97 - loss: 56173.75, matches: 89.36%\n",
      "iteration 98 - loss: 56094.27, matches: 89.37%\n",
      "iteration 99 - loss: 56016.03, matches: 89.39%\n"
     ]
    }
   ],
   "source": [
    "w = train(X_train, Y_train, X_test, Y_test, iterations=100, lr=1e-5)"
   ]
  },
  {
   "cell_type": "markdown",
   "id": "d37976bb",
   "metadata": {},
   "source": [
    "## check some examples"
   ]
  },
  {
   "cell_type": "code",
   "execution_count": 27,
   "id": "f9c09499",
   "metadata": {},
   "outputs": [
    {
     "data": {
      "image/png": "[encoded data removed]",
      "text/plain": [
       "<Figure size 640x480 with 1 Axes>"
      ]
     },
     "metadata": {},
     "output_type": "display_data"
    }
   ],
   "source": [
    "def plot_ex(ex_ind):\n",
    "    plt.imshow(255 - X_train[ex_ind, 1:].reshape(28,28), cmap = 'gray')\n",
    "    classification = classify(X_train[ex_ind:ex_ind+1], w)[0,0]\n",
    "    plt.title('label={} \\nclassified as {}'.format(Y_train_unencoded[ex_ind,0], classification))\n",
    "    \n",
    "ex_ind = 1 # which example\n",
    "plot_ex(ex_ind)"
   ]
  },
  {
   "cell_type": "code",
   "execution_count": 25,
   "id": "10f08256",
   "metadata": {},
   "outputs": [
    {
     "data": {
      "image/png": "[encoded data removed]",
      "text/plain": [
       "<Figure size 2000x300 with 10 Axes>"
      ]
     },
     "metadata": {},
     "output_type": "display_data"
    }
   ],
   "source": [
    "# show many examples\n",
    "plt.figure(figsize=(20, 3))\n",
    "for i in range(10):\n",
    "    plt.subplot(1,10,i+1)\n",
    "    plot_ex(i)\n"
   ]
  },
  {
   "cell_type": "code",
   "execution_count": 28,
   "id": "aa71e1d0",
   "metadata": {},
   "outputs": [
    {
     "data": {
      "image/png": "[encoded data removed]",
      "text/plain": [
       "<Figure size 300x300 with 1 Axes>"
      ]
     },
     "metadata": {},
     "output_type": "display_data"
    },
    {
     "data": {
      "image/png": "[encoded data removed]",
      "text/plain": [
       "<Figure size 2000x300 with 10 Axes>"
      ]
     },
     "metadata": {},
     "output_type": "display_data"
    }
   ],
   "source": [
    "# for one example show the weights for all classes as well\n",
    "\n",
    "plt.figure(figsize=(3, 3))\n",
    "plot_ex(ex_ind)\n",
    "\n",
    "plt.figure(figsize=(20, 3))\n",
    "for i in range(10):\n",
    "    ww = w[1:,i].reshape(28, 28)\n",
    "    plt.subplot(1,10,i+1)"
   ]
  },
  {
   "cell_type": "markdown",
   "id": "8cd458be",
   "metadata": {},
   "source": [
    "Explain, why the weight matrixes look the way they do"
   ]
  },
  {
   "cell_type": "code",
   "execution_count": null,
   "id": "aa7ac717",
   "metadata": {},
   "outputs": [],
   "source": []
  }
 ],
 "metadata": {
  "kernelspec": {
   "display_name": "Python 3",
   "language": "python",
   "name": "python3"
  },
  "language_info": {
   "codemirror_mode": {
    "name": "ipython",
    "version": 3
   },
   "file_extension": ".py",
   "mimetype": "text/x-python",
   "name": "python",
   "nbconvert_exporter": "python",
   "pygments_lexer": "ipython3",
   "version": "3.13.0"
  }
 },
 "nbformat": 4,
 "nbformat_minor": 5
}
