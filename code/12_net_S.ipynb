{
 "cells": [
  {
   "cell_type": "code",
   "execution_count": 1,
   "id": "b617b17a",
   "metadata": {},
   "outputs": [],
   "source": [
    "import numpy as np\n",
    "import matplotlib.pyplot as plt"
   ]
  },
  {
   "cell_type": "code",
   "execution_count": null,
   "id": "63a9adcc",
   "metadata": {},
   "outputs": [],
   "source": []
  },
  {
   "cell_type": "code",
   "execution_count": 2,
   "id": "54273333",
   "metadata": {},
   "outputs": [],
   "source": [
    "def prepend_ones(X):\n",
    "    # adds a column of ones before the first column of a matrix\n",
    "    return np.insert(X, 0, 1, axis=1)\n",
    "\n",
    "def sigmoid(z):\n",
    "    # computes the logistic function for a number or each element of an array\n",
    "    return 1 / (1 + np.exp(-z))\n"
   ]
  },
  {
   "cell_type": "code",
   "execution_count": null,
   "id": "4a98b84a",
   "metadata": {},
   "outputs": [],
   "source": []
  },
  {
   "cell_type": "code",
   "execution_count": null,
   "id": "4734cac2",
   "metadata": {},
   "outputs": [],
   "source": []
  },
  {
   "cell_type": "code",
   "execution_count": 3,
   "id": "d386f233",
   "metadata": {},
   "outputs": [],
   "source": [
    "# network layout: number of examples, features, hidden layers and classes\n",
    "\n",
    "# data\n",
    "num_examples = 1 # number of examples in the training data set\n",
    "num_features = 3 # number of features (e.g. number of pixels in a picture)\n",
    "num_classes  = 2 # number of different labels (e.g. 10 for digits from 0 to 9)\n",
    "\n",
    "# hidden layer\n",
    "num_hidden = 3 # number of nodes in the hidden layer"
   ]
  },
  {
   "cell_type": "code",
   "execution_count": 77,
   "id": "1650782b",
   "metadata": {},
   "outputs": [
    {
     "name": "stdout",
     "output_type": "stream",
     "text": [
      "y_hat =  [[9.29133515 8.63806753]]\n"
     ]
    }
   ],
   "source": [
    "# Check if your code executes without any errors. \n",
    "# For this, use matrices with random numbers\n",
    "\n",
    "# data, size=(num_examples,num_features)\n",
    "X = np.random.uniform(0, 10, size=(num_examples,num_features))\n",
    "Xp1 = # ... prepend ones\n",
    "\n",
    "# random arrays of weights\n",
    "W1 = np.random.uniform(0, 1, size=(num_features + 1, num_hidden)) # weights for X -> hidden layer\n",
    "W2 = np.random.uniform(0, 1, size=(num_hidden + 1, num_classes)) # weights for hidden -> Y_hat\n",
    "\n",
    "# propagate the input X through your network\n",
    "# 1) input -> hidden variables\n",
    "H = np.matmul(...) # ... multiply matrices\n",
    "Hp1 =  # ... prepend ones\n",
    "# 2) hidden variables -> output \n",
    "y_hat = # ... multipy matrices\n",
    "\n",
    "print('y_hat = ', y_hat)"
   ]
  },
  {
   "cell_type": "code",
   "execution_count": null,
   "id": "3b274958",
   "metadata": {},
   "outputs": [],
   "source": []
  },
  {
   "cell_type": "code",
   "execution_count": 83,
   "id": "a3ae8f32",
   "metadata": {},
   "outputs": [
    {
     "name": "stdout",
     "output_type": "stream",
     "text": [
      "Xp1 = \n",
      " [[1. 1. 1. 2.]]\n",
      "W1 = \n",
      " [[0. 0. 0.]\n",
      " [1. 1. 1.]\n",
      " [1. 1. 1.]\n",
      " [1. 1. 1.]]\n",
      "Hp1 = \n",
      " [[1. 4. 4. 4.]]\n",
      "W2 = \n",
      " [[0. 0.]\n",
      " [1. 1.]\n",
      " [0. 0.]\n",
      " [0. 0.]]\n",
      "y_hat = \n",
      " [[4. 4.]]\n"
     ]
    }
   ],
   "source": [
    "# Now use custom matrices\n",
    "\n",
    "# ====================================\n",
    "# input data X\n",
    "X = np.zeros((num_examples,num_features))\n",
    "# custom modify your matrix:\n",
    "X[0,0] = 1\n",
    "X[0,1] = 1\n",
    "X[0,2] = 2\n",
    "\n",
    "Xp1 = prepend_ones(X)\n",
    "\n",
    "\n",
    "# ====================================\n",
    "# weights W1, W2\n",
    "W1 = np.zeros((num_features + 1, num_hidden)) # input -> hidden layer\n",
    "# custom modify your matrix:\n",
    "W1[1:,:] = 1\n",
    "\n",
    "W2 = np.zeros((num_hidden + 1, num_classes)) # hidden -> output\n",
    "# custom modify your matrix:\n",
    "W2[1,:] = 1\n",
    "\n",
    "\n",
    "# ====================================\n",
    "# propagate the input X through your network\n",
    "# 1) input -> hidden variables\n",
    "H = np.matmul(Xp1, W1)\n",
    "Hp1 = prepend_ones(H)\n",
    "\n",
    "# 2) hidden variables -> output\n",
    "y_hat = np.matmul(Hp1, W2)\n",
    "\n",
    "\n",
    "# ====================================\n",
    "# print\n",
    "print('Xp1 = \\n', Xp1)\n",
    "print('W1 = \\n', W1)\n",
    "print('Hp1 = \\n', Hp1)\n",
    "print('W2 = \\n', W2)\n",
    "print('y_hat = \\n', y_hat)"
   ]
  },
  {
   "cell_type": "code",
   "execution_count": null,
   "id": "0e15b4ce",
   "metadata": {},
   "outputs": [],
   "source": []
  }
 ],
 "metadata": {
  "kernelspec": {
   "display_name": "Python 3 (ipykernel)",
   "language": "python",
   "name": "python3"
  },
  "language_info": {
   "codemirror_mode": {
    "name": "ipython",
    "version": 3
   },
   "file_extension": ".py",
   "mimetype": "text/x-python",
   "name": "python",
   "nbconvert_exporter": "python",
   "pygments_lexer": "ipython3",
   "version": "3.9.9"
  }
 },
 "nbformat": 4,
 "nbformat_minor": 5
}
