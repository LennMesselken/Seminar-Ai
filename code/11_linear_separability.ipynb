{
 "cells": [
  {
   "cell_type": "code",
   "execution_count": 1,
   "id": "dac3230b",
   "metadata": {},
   "outputs": [],
   "source": [
    "import numpy as np\n",
    "import matplotlib.pyplot as plt\n",
    "import matplotlib.gridspec as gridspec\n",
    "from matplotlib import cm"
   ]
  },
  {
   "cell_type": "code",
   "execution_count": 316,
   "id": "63254984",
   "metadata": {},
   "outputs": [],
   "source": []
  },
  {
   "cell_type": "code",
   "execution_count": null,
   "id": "456468bf",
   "metadata": {},
   "outputs": [],
   "source": []
  },
  {
   "cell_type": "markdown",
   "id": "3b4b9efd",
   "metadata": {},
   "source": [
    "# classification code"
   ]
  },
  {
   "cell_type": "code",
   "execution_count": 9,
   "id": "cbcb462b",
   "metadata": {},
   "outputs": [],
   "source": [
    "# classification code\n",
    "\n",
    "def sigmoid(x, margin=0):\n",
    "    \"\"\"\n",
    "    sigmoid function with margins: \n",
    "    for x -> -infty: f -> margin\n",
    "    for x ->  infty: f -> 1-margin\n",
    "    \n",
    "    why the margins? To avoid log(0) in logarithmic loss\n",
    "    \"\"\"\n",
    "    return (1-2*margin) / (1 + np.exp(-x)) + margin\n",
    "\n",
    "\n",
    "def forward(X,w, margin=0):\n",
    "    \"\"\"\n",
    "    computes the forward prediction for a sigmoid activation function as sigmoid(X*w)\n",
    "    \n",
    "    parameters\n",
    "    ----------\n",
    "    X: 2d-array\n",
    "        the feature values (i.e. the input for the prediction)\n",
    "        the 0th column shouls be ones x[:,0]=1 (dummy weights for the bias)\n",
    "        x.shape[1] must equal len(w)\n",
    "    w: 1d-array \n",
    "        the weights, where w[0] is the bias\n",
    "        number of columns of x must equal len(w)\n",
    "    \n",
    "    returns:\n",
    "    --------\n",
    "    y_hat: array \n",
    "        the predictions, i.e. the predicted numbers of pizzas that will be ordered\n",
    "        the dimensions of y are those of x    \n",
    "    \"\"\"\n",
    "    my_X = X.astype(np.float64) # cast to float128 for increased precision\n",
    "    weighted_sum = np.matmul(X.astype(np.float64),w) # linear model \n",
    "    return sigmoid(weighted_sum, margin)  # return sigmoid thereof\n",
    "    \n",
    "\n",
    "def classify(X,w):\n",
    "    return np.round(forward(X,w))\n",
    "\n",
    "\n",
    "def log_loss(y_hat, y):\n",
    "    a = y * np.log(y_hat)\n",
    "    b = (1-y) * np.log(1-y_hat)\n",
    "    return -np.average(a+b)\n",
    "\n",
    "\n",
    "def grad_log_loss(X, y, w):\n",
    "    \"\"\"\n",
    "    gradient vektor of logarithmic loss\n",
    "    \n",
    "    parameters:\n",
    "    -----------\n",
    "    X: 2d-array\n",
    "        the feature values (i.e. the input for the prediction)\n",
    "        the 0th column shouls be ones x[:,0]=1 (dummy weights for the bias) \n",
    "    y: 1d-array\n",
    "        the ground truth\n",
    "        len(y) must equal number of columns of x \n",
    "    w: 1d-array \n",
    "        the weights, where w[0] is the bias\n",
    "        len(w) number of columns of x (TODO that is checked)\n",
    "    \"\"\"\n",
    "    \n",
    "    return np.matmul(X.T, forward(X, w) - y) / X.shape[0]\n",
    "\n",
    "\n",
    "def train(X, y, lr=0.001, max_iterations=10000, w0=None):\n",
    "    if w0 is None:\n",
    "        w = np.zeros((X.shape[1],1))\n",
    "    else:\n",
    "        w = w0\n",
    "    \n",
    "    ws = []\n",
    "    losses = []\n",
    "    success_rates = []\n",
    "    \n",
    "    for i in range(max_iterations):\n",
    "    \n",
    "        if 1: # save quantities during training\n",
    "            ws.append(w)\n",
    "\n",
    "            current_loss = log_loss(forward(X, w), y)\n",
    "            losses.append(current_loss)        \n",
    "\n",
    "            current_sr = test(X, y, w)\n",
    "            success_rates.append(current_sr)        \n",
    "        \n",
    "        this_grad = grad_log_loss(X, y, w)\n",
    "        w = w - this_grad * lr\n",
    "        \n",
    "        if i%100 == 0:\n",
    "            print(\"Iteration %4d: Loss: %.20f\" % (i, log_loss(forward(X, w), y)) )\n",
    "        \n",
    "        if 0:#log_loss(forward(x, w), y) >= current_loss:            \n",
    "            return [w, current_loss, i, ws, losses]\n",
    "        \n",
    "    print('Warning: maximum number of iterations reached')\n",
    "    return [w, ws, losses, success_rates]\n",
    "\n",
    "\n",
    "def test(X, Y, w):\n",
    "    num_examples = X.shape[0]\n",
    "    results = classify(X,w)\n",
    "    num_correct_results = np.sum(results == Y)\n",
    "    success_rate = num_correct_results / num_examples\n",
    "    #print('Success rate = {:.3f}'.format(success_rate))\n",
    "    return success_rate\n",
    "\n",
    "\n"
   ]
  },
  {
   "cell_type": "markdown",
   "id": "8a8b536d",
   "metadata": {},
   "source": [
    "### plot function"
   ]
  },
  {
   "cell_type": "code",
   "execution_count": 3,
   "id": "aac1c2cc",
   "metadata": {},
   "outputs": [],
   "source": [
    "def plotbin(x, y, w=None):\n",
    "    \"\"\"\n",
    "    visualizes two-feature binary data:\n",
    "    - all data points in feature space, \n",
    "    - label==0 as black crosses, label==1 as red circles\n",
    "    if w is not None also the following is displayed\n",
    "    - success rate: # correct classifications / # examples\n",
    "    - decision boundary\n",
    "    - logarithmic loss\n",
    "    \n",
    "    x: 2d array\n",
    "        feature values, len(x1) = number of examples\n",
    "        x[:,0] are ones\n",
    "        x[:,1] feature 1 values\n",
    "        x[:,2] feature 2 values\n",
    "    y: array-like\n",
    "        label values, must be 0 or 1\n",
    "    w: 2d array-like\n",
    "        weights of a trained linear model\n",
    "        [b, w1, w2], bias b is in first place\n",
    "        default = None\n",
    "        if w is not None the decision boundarz of the linear model is plotted\n",
    "    \"\"\"\n",
    "    x1 = x[:,1]\n",
    "    x2 = x[:,2]\n",
    "    fig = plt.figure(figsize=(4,4))\n",
    "    for i in range(len(x1)):\n",
    "        if y[i] == 0:\n",
    "            plt.plot(x1[i], x2[i], 'k+')\n",
    "        else:\n",
    "            plt.plot(x1[i], x2[i], 'ro')\n",
    "    #plt.xlabel('feature 1')\n",
    "    #plt.ylabel('feature 2')\n",
    "    plt.xlabel('feature 1: Tee Ziehzeit in s')\n",
    "    plt.ylabel('feature 2: Zuckermenge in Loeffeln')\n",
    "    \n",
    "    if w is not None:\n",
    "        # success rate\n",
    "        success_rate = test(x, y, w)\n",
    "        \n",
    "        # log loss\n",
    "        loss = log_loss(forward(x,w), y)\n",
    "        \n",
    "        # decision boundary\n",
    "        [b, w1, w2] = w[:,0]\n",
    "        x1_line = [np.min(x1), np.max(x1)]\n",
    "        x2_line = [-b/w2 - w1/w2*x1_line[0], -b/w2 - w1/w2*x1_line[1]]\n",
    "        plt.plot(x1_line, x2_line, '--k')\n",
    "        x1_margin = (np.max(x1) - np.min(x1))/10\n",
    "        x2_margin = (np.max(x2) - np.min(x2))/10\n",
    "        plt.axis([np.min(x1)-x1_margin, np.max(x1)+x1_margin, np.min(x2)-x2_margin, np.max(x2)+x2_margin])\n",
    "        \n",
    "        plt.title('Success rate = {:.1f}% \\nlog loss = {:.3f}'.format(success_rate*100, loss))"
   ]
  },
  {
   "cell_type": "code",
   "execution_count": null,
   "id": "01203046",
   "metadata": {},
   "outputs": [],
   "source": []
  },
  {
   "cell_type": "markdown",
   "id": "7cbee5a2",
   "metadata": {},
   "source": [
    "# Load data"
   ]
  },
  {
   "cell_type": "code",
   "execution_count": 5,
   "id": "0ca6ad70",
   "metadata": {},
   "outputs": [],
   "source": [
    "x1, x2, y = np.loadtxt('../data/rib_set2.csv', skiprows=1, unpack=True)\n",
    "x = np.column_stack((np.ones(x1.size), x1, x2)) # add a column of ones in the front\n",
    "# column 1: ones\n",
    "# column 2: feature 1\n",
    "# column 3: feature 2\n",
    "\n",
    "y = y.reshape(-1, 1) # cast array into a matrix\n",
    "# binary label (0 or 1)\n",
    "\n",
    "#print(y)"
   ]
  },
  {
   "cell_type": "code",
   "execution_count": null,
   "id": "245f9c36",
   "metadata": {},
   "outputs": [],
   "source": []
  },
  {
   "cell_type": "markdown",
   "id": "f3e4f520",
   "metadata": {},
   "source": [
    "# Optional: generate your own data"
   ]
  },
  {
   "cell_type": "code",
   "execution_count": 429,
   "id": "f48d48d6",
   "metadata": {},
   "outputs": [
    {
     "name": "stderr",
     "output_type": "stream",
     "text": [
      "/var/folders/q6/sbgdv2m94mqbdp5j9qrvh86c0000gn/T/ipykernel_84009/1592711279.py:33: DeprecationWarning: setting an array element with a sequence. This was supported in some cases where the elements are arrays with a single element. For example `np.array([1, np.array([2])], dtype=int)`. In the future this will raise the same ValueError as `np.array([1, [2]], dtype=int)`.\n",
      "  x[i,:] = [x0[i], y0[i]]\n"
     ]
    },
    {
     "data": {
      "image/png": "[encoded data removed]",
      "text/plain": [
       "<Figure size 288x288 with 1 Axes>"
      ]
     },
     "metadata": {
      "needs_background": "light"
     },
     "output_type": "display_data"
    }
   ],
   "source": [
    "# np.random.normal(mean, sigma, (num_samples, dim))\n",
    "if 1:\n",
    "    # Gaussian distribution\n",
    "    if 0:\n",
    "        # data cloud with label = 0\n",
    "        num0 = 40         # number of examples\n",
    "        [c0x, c0y] = [0,0] # center \n",
    "        [s0x, s0y] = [1,1] # standard deviation in x and y direction \n",
    "\n",
    "        # data cloud with label = 1\n",
    "        num1 = 0\n",
    "        [c1x, c1y] = [3,-3] # center \n",
    "        [s1x, s1y] = [1,1] # standard deviation in x and y direction \n",
    "\n",
    "        x0 = np.random.normal(c0x, s0x, (num0, 1))\n",
    "        y0 = np.random.normal(c0y, s0y, (num0, 1))\n",
    "        x1 = np.random.normal(c1x, s1x, (num0, 1))\n",
    "        y1 = np.random.normal(c1y, s1y, (num0, 1))\n",
    "        \n",
    "    # uniform distribution\n",
    "    if 1:\n",
    "        # data cloud with label = 0\n",
    "        num0 = 20         # number of examples\n",
    "        [minx, maxx] = [0,8] # center \n",
    "        [miny, maxy] = [0,3] # standard deviation in x and y direction \n",
    "        \n",
    "        x0 = np.random.uniform(minx, maxx, (num0, 1))\n",
    "        y0 = np.random.uniform(miny, maxy, (num0, 1))\n",
    "\n",
    "    x = np.zeros((num0, 2))\n",
    "    y = np.zeros((num0, 1)) # ATTENTION: here, y is the label vector, not the y-component of the features\n",
    "    for i in range(num0):\n",
    "        x[i,:] = [x0[i], y0[i]]\n",
    "        y[i,0] = 0\n",
    "    \n",
    "    \n",
    "    # add ones as a first column to x\n",
    "    x = np.column_stack((np.ones(len(x)), x[:,0], x[:,1]))\n",
    "    \n",
    "    # optional: modify labels\n",
    "    if 1:\n",
    "        for i in range(len(y)):\n",
    "            a = x[i,1]\n",
    "            b = x[i,2]\n",
    "            y[i,0] = np.exp(-(((a-3)**2 + (b-1)**2))/(3*1**2))\n",
    "            y = np.round(y)\n",
    "    \n",
    "    \n",
    "    plotbin(x,y)"
   ]
  },
  {
   "cell_type": "code",
   "execution_count": 413,
   "id": "357510fc",
   "metadata": {},
   "outputs": [],
   "source": [
    "# optional: save data to text file\n",
    "if 1:\n",
    "    a = np.column_stack((x[:,1], x[:,2], y[:,0]))\n",
    "    np.savetxt(\"myset.csv\", a, delimiter='\\t', header = 'my set')\n"
   ]
  },
  {
   "cell_type": "code",
   "execution_count": 414,
   "id": "ad67d3b7",
   "metadata": {},
   "outputs": [
    {
     "data": {
      "text/plain": [
       "array([[7.75087059],\n",
       "       [3.98780973],\n",
       "       [4.84463867],\n",
       "       [5.12458922],\n",
       "       [6.74339426],\n",
       "       [1.21106375],\n",
       "       [2.99171756],\n",
       "       [2.35091749],\n",
       "       [3.68025283],\n",
       "       [6.32688178],\n",
       "       [1.61216369],\n",
       "       [7.53562526],\n",
       "       [4.39698569],\n",
       "       [2.95509372],\n",
       "       [7.69528498],\n",
       "       [0.06930974],\n",
       "       [6.58751735],\n",
       "       [4.49886685],\n",
       "       [2.27778947],\n",
       "       [2.84146884],\n",
       "       [6.99979528],\n",
       "       [0.64847152],\n",
       "       [5.6311301 ],\n",
       "       [6.04752405],\n",
       "       [4.8339195 ],\n",
       "       [2.92352716],\n",
       "       [0.12286686],\n",
       "       [7.25842201],\n",
       "       [7.89456299],\n",
       "       [1.22383492],\n",
       "       [0.08711745],\n",
       "       [7.08252118],\n",
       "       [1.57963853],\n",
       "       [2.99697245],\n",
       "       [7.97754184],\n",
       "       [1.37884522],\n",
       "       [3.7249223 ],\n",
       "       [7.81153329],\n",
       "       [1.87030921],\n",
       "       [0.74137465]])"
      ]
     },
     "execution_count": 414,
     "metadata": {},
     "output_type": "execute_result"
    }
   ],
   "source": [
    "x0"
   ]
  },
  {
   "cell_type": "markdown",
   "id": "3fe10fa6",
   "metadata": {},
   "source": [
    "# Apply your code\n",
    "\n",
    "Data was loaded above"
   ]
  },
  {
   "cell_type": "code",
   "execution_count": 6,
   "id": "75438ca1",
   "metadata": {},
   "outputs": [
    {
     "data": {
      "image/png": "[encoded data removed]",
      "text/plain": [
       "<Figure size 400x400 with 1 Axes>"
      ]
     },
     "metadata": {},
     "output_type": "display_data"
    }
   ],
   "source": [
    "# plot data\n",
    "plotbin(x,y)"
   ]
  },
  {
   "cell_type": "markdown",
   "id": "a013fcc4",
   "metadata": {},
   "source": [
    "## now train a model\n",
    "\n",
    "The below cells do the following: \n",
    "\n",
    "- train a model\n",
    "- plot the data alongside \n",
    "    - decision boundary\n",
    "    - final success rate (fraction of correct classifications)\n",
    "    - final loss\n",
    "\n",
    "You may have to play aroud with the learning rate and the number of iterations\n",
    "\n",
    "*Hint:* Start with a low number of iterations (100 or 1000), then gradually increase as needed"
   ]
  },
  {
   "cell_type": "code",
   "execution_count": 10,
   "id": "92cb2717",
   "metadata": {
    "scrolled": true
   },
   "outputs": [
    {
     "name": "stdout",
     "output_type": "stream",
     "text": [
      "Iteration    0: Loss: 0.65994164759418993960\n",
      "Iteration  100: Loss: 0.25396251670047487181\n",
      "Iteration  200: Loss: 0.22292796405900183743\n",
      "Iteration  300: Loss: 0.21070375943535193941\n",
      "Iteration  400: Loss: 0.20425205631529724792\n",
      "Iteration  500: Loss: 0.20033902809422526881\n",
      "Iteration  600: Loss: 0.19776249257315617336\n",
      "Iteration  700: Loss: 0.19597125643520008076\n",
      "Iteration  800: Loss: 0.19467700650871583301\n",
      "Iteration  900: Loss: 0.19371457087595347901\n",
      "Warning: maximum number of iterations reached\n"
     ]
    }
   ],
   "source": [
    "[w, ws, losses, success_rates] = train(x, y, lr=0.2, max_iterations=1000)"
   ]
  },
  {
   "cell_type": "code",
   "execution_count": 11,
   "id": "ff056960",
   "metadata": {},
   "outputs": [
    {
     "data": {
      "image/png": "[encoded data removed]",
      "text/plain": [
       "<Figure size 400x400 with 1 Axes>"
      ]
     },
     "metadata": {},
     "output_type": "display_data"
    }
   ],
   "source": [
    "# plot with the decision boundary\n",
    "plotbin(x, y, w)"
   ]
  },
  {
   "cell_type": "code",
   "execution_count": null,
   "id": "0c78546a",
   "metadata": {},
   "outputs": [],
   "source": []
  },
  {
   "cell_type": "code",
   "execution_count": null,
   "id": "752d394c",
   "metadata": {},
   "outputs": [],
   "source": []
  },
  {
   "cell_type": "markdown",
   "id": "b5a20f5d",
   "metadata": {},
   "source": [
    "# The lowest loss does not necessarily yield the largest number of correct classifications "
   ]
  },
  {
   "cell_type": "code",
   "execution_count": 12,
   "id": "c2812e0d",
   "metadata": {},
   "outputs": [
    {
     "data": {
      "text/plain": [
       "Text(0.5, 0, 'iterations')"
      ]
     },
     "execution_count": 12,
     "metadata": {},
     "output_type": "execute_result"
    },
    {
     "data": {
      "image/png": "[encoded data removed]",
      "text/plain": [
       "<Figure size 500x500 with 2 Axes>"
      ]
     },
     "metadata": {},
     "output_type": "display_data"
    }
   ],
   "source": [
    "plt.figure(figsize=(5,5))\n",
    "\n",
    "plt.subplot(2,1,1)\n",
    "plt.semilogy(losses)\n",
    "plt.grid()\n",
    "plt.ylabel('log loss')\n",
    "\n",
    "plt.subplot(2,1,2)\n",
    "plt.plot(success_rates)\n",
    "plt.grid()\n",
    "plt.ylabel('success rate')\n",
    "plt.xlabel('iterations')"
   ]
  },
  {
   "cell_type": "code",
   "execution_count": null,
   "id": "58580274",
   "metadata": {},
   "outputs": [],
   "source": []
  }
 ],
 "metadata": {
  "kernelspec": {
   "display_name": "Python 3",
   "language": "python",
   "name": "python3"
  },
  "language_info": {
   "codemirror_mode": {
    "name": "ipython",
    "version": 3
   },
   "file_extension": ".py",
   "mimetype": "text/x-python",
   "name": "python",
   "nbconvert_exporter": "python",
   "pygments_lexer": "ipython3",
   "version": "3.13.0"
  }
 },
 "nbformat": 4,
 "nbformat_minor": 5
}
