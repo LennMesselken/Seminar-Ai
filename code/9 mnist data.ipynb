{
 "cells": [
  {
   "cell_type": "code",
   "execution_count": 30,
   "id": "b1dbf095",
   "metadata": {},
   "outputs": [],
   "source": [
    "import numpy as np\n",
    "import matplotlib.pyplot as plt\n",
    "import gzip\n",
    "import struct\n",
    "import math"
   ]
  },
  {
   "cell_type": "markdown",
   "id": "9feafe58",
   "metadata": {},
   "source": [
    "# Daten lib"
   ]
  },
  {
   "cell_type": "code",
   "execution_count": 2,
   "id": "90534178",
   "metadata": {},
   "outputs": [],
   "source": [
    "def load_images(filename):\n",
    "    with gzip.open(filename, 'rb') as f:\n",
    "        _, n_images, cols, rows = struct.unpack('>IIII', f.read(16))\n",
    "        all_pixels = np.frombuffer(f.read(), dtype=np.uint8)\n",
    "        return all_pixels.reshape(n_images, cols*rows)\n",
    "\n",
    "def prepend_bias(X):\n",
    "    return np.insert(X, 0, 1, axis=1)\n",
    "\n",
    "def load_labels(filename):\n",
    "    with gzip.open(filename, 'rb') as f:\n",
    "        f.read(8)\n",
    "        all_labels = f.read()\n",
    "        return np.frombuffer(all_labels, dtype=np.uint8).reshape(-1,1)\n",
    "\n",
    "def encode_fives(Y):\n",
    "    return (Y==5).astype(int)"
   ]
  },
  {
   "cell_type": "markdown",
   "id": "4a5d9966",
   "metadata": {},
   "source": [
    "Load data"
   ]
  },
  {
   "cell_type": "code",
   "execution_count": 6,
   "id": "333b6df8",
   "metadata": {},
   "outputs": [],
   "source": [
    "# load data\n",
    "\n",
    "X_train = prepend_bias(load_images('../data/train-images-idx3-ubyte.gz'))\n",
    "X_test = prepend_bias(load_images('../data/t10k-images-idx3-ubyte.gz'))\n",
    "\n",
    "Y_train = encode_fives(load_labels('../data/train-labels-idx1-ubyte.gz'))\n",
    "Y_test = encode_fives(load_labels('../data/t10k-labels-idx1-ubyte.gz'))"
   ]
  },
  {
   "cell_type": "markdown",
   "id": "f47c22e8",
   "metadata": {},
   "source": [
    "# Explore the data\n",
    "\n",
    "X_train is training data for the input varibles X. Here, X consists of images of handwritten digits\n",
    "\n",
    "\n",
    "\n",
    "Explore X the data. For example, find out\n",
    "- how many images are there in X_train\n",
    "- how large is each image\n",
    "- plot an image as a vector, plt.plot(a). What does it look like? Explain!\n",
    "- reshape the 'images' into a 2D array (hint: its a square)\n",
    "- plot images\n",
    "\n",
    "Explore the Y data. For example, find out\n",
    "- what type of vales are stored in Y\n",
    "- what's the min and max value\n",
    "- what do the ones in Y correspond to in X\n",
    "- what's the shape of the array? Why?\n",
    "\n",
    "\n",
    "Possible tools\n",
    "- len(a) returns the legnth of an array or a list\n",
    "- a.shape (alternatively numpy.shape(a)) returns the shape of an array \n",
    "- a[0] returns the first element of a 1d array or the first line of an array (equivalent to a[0,:])\n",
    "- a.reshape(n,m) returns a reshaped array as a n-by-m array (if possible)\n",
    "- plt.imshow(a)\n",
    "- max, min\n",
    "- iteration: for i in range(start, stop): ... loops over i = start, start+1, ..., stop-1"
   ]
  },
  {
   "cell_type": "code",
   "execution_count": 17,
   "id": "07a2379c",
   "metadata": {},
   "outputs": [
    {
     "data": {
      "text/plain": [
       "<matplotlib.image.AxesImage at 0x107e31d30>"
      ]
     },
     "execution_count": 17,
     "metadata": {},
     "output_type": "execute_result"
    },
    {
     "data": {
      "image/png": "[encoded data removed]",
      "text/plain": [
       "<Figure size 640x480 with 1 Axes>"
      ]
     },
     "metadata": {},
     "output_type": "display_data"
    }
   ],
   "source": [
    "X_train.shape\n",
    "test = X_train[0][1:].reshape(28,28)\n",
    "plt.imshow(test)"
   ]
  },
  {
   "cell_type": "markdown",
   "id": "c178853e",
   "metadata": {},
   "source": [
    "# Machine learning bib"
   ]
  },
  {
   "cell_type": "code",
   "execution_count": 18,
   "id": "480db7cf",
   "metadata": {},
   "outputs": [],
   "source": [
    "def sigmoid(x):\n",
    "    return 1 / (1 + np.exp(-x))\n",
    "\n",
    "def forward(X, w):\n",
    "    weighted_sum = np.matmul(X, w)\n",
    "    return sigmoid(weighted_sum)\n",
    "\n",
    "def classify(X, w):\n",
    "    return np.round(forward(X,w))\n",
    "\n",
    "def loss(X, Y, w):\n",
    "    y = forward(X,w)\n",
    "    return -np.average(Y*np.log(y) + (1-Y)*np.log(1-y))\n",
    "\n",
    "def gradient(X, Y, w):\n",
    "    return np.matmul(X.T, (forward(X,w)-Y))/X.shape[0]\n",
    "\n",
    "def train(X, Y, iterations, lr):\n",
    "    losses = np.zeros(iterations)\n",
    "    w = np.zeros((X.shape[1], 1))\n",
    "    for i in range(iterations):\n",
    "        losses[i] = loss(X,Y,w)\n",
    "        print('iteration {} => Loss: {}'.format(i, loss(X, Y, w)))\n",
    "        w -= gradient(X, Y, w) * lr\n",
    "    return [w, losses]\n",
    "\n",
    "def test(X, Y, x):\n",
    "    tot_examples = X.shape[0]\n",
    "    correct_results = np.sum(classify(X,w) == Y)\n",
    "    success_rate = correct_results * 100 / tot_examples\n",
    "    print('\\nSuccess: {}/{} ({})'.format(correct_results, tot_examples, success_rate))\n"
   ]
  },
  {
   "cell_type": "markdown",
   "id": "a5539edf",
   "metadata": {},
   "source": [
    "# Train and test a classifyer for 5 or not-5"
   ]
  },
  {
   "cell_type": "code",
   "execution_count": 31,
   "id": "8ecb029e",
   "metadata": {},
   "outputs": [],
   "source": [
    "# select a subset for training and testing\n",
    "\n",
    "first_ind = 0\n",
    "last_ind = math.floor(len(X_train)/2) # exclusive\n",
    "\n",
    "X_train_select = X_train[first_ind:last_ind]\n",
    "Y_train_select = Y_train[first_ind:last_ind]\n",
    "X_test_select = X_test[first_ind:last_ind]\n",
    "Y_test_select = Y_test[first_ind:last_ind]\n"
   ]
  },
  {
   "cell_type": "code",
   "execution_count": 32,
   "id": "62bf7861",
   "metadata": {
    "scrolled": true
   },
   "outputs": [
    {
     "name": "stdout",
     "output_type": "stream",
     "text": [
      "iteration 0 => Loss: 0.6931471805599453\n",
      "iteration 1 => Loss: 0.8127380402527672\n",
      "iteration 2 => Loss: 0.6128442439153153\n",
      "iteration 3 => Loss: 0.42117615067124425\n",
      "iteration 4 => Loss: 0.2657698786352035\n",
      "iteration 5 => Loss: 0.2174495036702442\n",
      "iteration 6 => Loss: 0.20924839589933894\n",
      "iteration 7 => Loss: 0.20214860554496228\n",
      "iteration 8 => Loss: 0.19612548763388551\n",
      "iteration 9 => Loss: 0.19084806432208995\n",
      "iteration 10 => Loss: 0.186195860270548\n",
      "iteration 11 => Loss: 0.18204466353894186\n",
      "iteration 12 => Loss: 0.1783102521313155\n",
      "iteration 13 => Loss: 0.17492743796046453\n",
      "iteration 14 => Loss: 0.17184436865440572\n",
      "iteration 15 => Loss: 0.16902053085079324\n",
      "iteration 16 => Loss: 0.16642242081646538\n",
      "iteration 17 => Loss: 0.16402261779899788\n",
      "iteration 18 => Loss: 0.16179801470100155\n",
      "iteration 19 => Loss: 0.1597291209393977\n",
      "iteration 20 => Loss: 0.15779927922875506\n",
      "iteration 21 => Loss: 0.15599418922789737\n",
      "iteration 22 => Loss: 0.1543014835655804\n",
      "iteration 23 => Loss: 0.152710412804742\n",
      "iteration 24 => Loss: 0.1512115835252409\n",
      "iteration 25 => Loss: 0.14979674912011195\n",
      "iteration 26 => Loss: 0.14845863743746932\n",
      "iteration 27 => Loss: 0.1471908092659999\n",
      "iteration 28 => Loss: 0.1459875408737617\n",
      "iteration 29 => Loss: 0.14484372610636875\n",
      "iteration 30 => Loss: 0.1437547942682229\n",
      "iteration 31 => Loss: 0.14271664089413208\n",
      "iteration 32 => Loss: 0.14172556908926257\n",
      "iteration 33 => Loss: 0.14077823958959748\n",
      "iteration 34 => Loss: 0.13987162805528766\n",
      "iteration 35 => Loss: 0.13900298839430203\n",
      "iteration 36 => Loss: 0.13816982113819737\n",
      "iteration 37 => Loss: 0.13736984607016015\n",
      "iteration 38 => Loss: 0.13660097844790722\n",
      "iteration 39 => Loss: 0.1358613082784341\n",
      "iteration 40 => Loss: 0.13514908219397812\n",
      "iteration 41 => Loss: 0.1344626875535444\n",
      "iteration 42 => Loss: 0.1338006384554942\n",
      "iteration 43 => Loss: 0.1331615633968113\n",
      "iteration 44 => Loss: 0.13254419435591505\n",
      "iteration 45 => Loss: 0.13194735710999775\n",
      "iteration 46 => Loss: 0.13136996262618014\n",
      "iteration 47 => Loss: 0.1308109993893859\n",
      "iteration 48 => Loss: 0.13026952654958515\n",
      "iteration 49 => Loss: 0.12974466778764993\n",
      "iteration 50 => Loss: 0.12923560581304194\n",
      "iteration 51 => Loss: 0.12874157741838366\n",
      "iteration 52 => Loss: 0.12826186902599224\n",
      "iteration 53 => Loss: 0.12779581266999954\n",
      "iteration 54 => Loss: 0.1273427823649708\n",
      "iteration 55 => Loss: 0.12690219081817747\n",
      "iteration 56 => Loss: 0.1264734864480397\n",
      "iteration 57 => Loss: 0.12605615067586923\n",
      "iteration 58 => Loss: 0.12564969546202392\n",
      "iteration 59 => Loss: 0.12525366106103536\n",
      "iteration 60 => Loss: 0.1248676139732558\n",
      "iteration 61 => Loss: 0.12449114507317316\n",
      "iteration 62 => Loss: 0.12412386789680525\n",
      "iteration 63 => Loss: 0.12376541707256206\n",
      "iteration 64 => Loss: 0.12341544688169505\n",
      "iteration 65 => Loss: 0.12307362993596993\n",
      "iteration 66 => Loss: 0.12273965596153112\n",
      "iteration 67 => Loss: 0.12241323067910008\n",
      "iteration 68 => Loss: 0.12209407477168288\n",
      "iteration 69 => Loss: 0.12178192293187731\n",
      "iteration 70 => Loss: 0.12147652298167709\n",
      "iteration 71 => Loss: 0.12117763505838818\n",
      "iteration 72 => Loss: 0.12088503086090756\n",
      "iteration 73 => Loss: 0.12059849295118127\n",
      "iteration 74 => Loss: 0.12031781410616171\n",
      "iteration 75 => Loss: 0.12004279671603363\n",
      "iteration 76 => Loss: 0.11977325222487953\n",
      "iteration 77 => Loss: 0.119509000610314\n",
      "iteration 78 => Loss: 0.1192498698989382\n",
      "iteration 79 => Loss: 0.11899569571475391\n",
      "iteration 80 => Loss: 0.118746320857935\n",
      "iteration 81 => Loss: 0.1185015949115883\n",
      "iteration 82 => Loss: 0.11826137387434356\n",
      "iteration 83 => Loss: 0.11802551981680294\n",
      "iteration 84 => Loss: 0.1177939005600501\n",
      "iteration 85 => Loss: 0.11756638937457249\n",
      "iteration 86 => Loss: 0.11734286469809155\n",
      "iteration 87 => Loss: 0.11712320987091966\n",
      "iteration 88 => Loss: 0.11690731288757852\n",
      "iteration 89 => Loss: 0.11669506616351709\n",
      "iteration 90 => Loss: 0.11648636631586136\n",
      "iteration 91 => Loss: 0.11628111395721384\n",
      "iteration 92 => Loss: 0.11607921350159979\n",
      "iteration 93 => Loss: 0.11588057298172656\n",
      "iteration 94 => Loss: 0.11568510387678953\n",
      "iteration 95 => Loss: 0.11549272095011506\n",
      "iteration 96 => Loss: 0.11530334209598699\n",
      "iteration 97 => Loss: 0.11511688819505156\n",
      "iteration 98 => Loss: 0.114933282977741\n",
      "iteration 99 => Loss: 0.11475245289519885\n"
     ]
    }
   ],
   "source": [
    "[w, losses] = train(X_train_select, Y_train_select, iterations=100, lr=1e-5)"
   ]
  },
  {
   "cell_type": "code",
   "execution_count": 33,
   "id": "cb741593",
   "metadata": {},
   "outputs": [
    {
     "data": {
      "image/png": "[encoded data removed]",
      "text/plain": [
       "<Figure size 640x480 with 1 Axes>"
      ]
     },
     "metadata": {},
     "output_type": "display_data"
    }
   ],
   "source": [
    "# plot losses over iterations\n",
    "plt.plot(losses)\n",
    "plt.grid()"
   ]
  },
  {
   "cell_type": "code",
   "execution_count": 22,
   "id": "1ad002b4",
   "metadata": {},
   "outputs": [
    {
     "name": "stdout",
     "output_type": "stream",
     "text": [
      "\n",
      "Success: 9637/10000 (96.37)\n"
     ]
    }
   ],
   "source": [
    "# test accuracy\n",
    "test(X_test, Y_test, w)"
   ]
  },
  {
   "cell_type": "markdown",
   "id": "3b7c3450",
   "metadata": {},
   "source": [
    "# Exercises\n",
    "\n",
    "Experiment with different hyperparameters (hyperparameters are parameters for the training - not model parameters)\n",
    "- size of the train and test data sets\n",
    "- number of iterations\n",
    "- lerning rate\n",
    "\n",
    "Find out which fives were classified corretly and which were not\n",
    "- find them (i.e. there indices in the dataset)\n",
    "- visualize them\n",
    "\n",
    "Maybe (I did not try!) you can find systematic errors compared to our human classification. For example, select a very small training data set in which all fives are \"similar\" to humans. Then check if during testing it finds mostly those \"similar\" to the trained ones. \n",
    "\n",
    "A useful strategy is called batching. \n",
    "- Divide your training data set in batches (e.g. 6 batches of 10000 each)\n",
    "- train on first batch and get weights\n",
    "- START training of second batch with the weights returned by the first batch\n",
    "- and so on\n",
    "Compare the success rate to training on the full set. \n"
   ]
  },
  {
   "cell_type": "code",
   "execution_count": 28,
   "id": "ad39dafa",
   "metadata": {},
   "outputs": [
    {
     "name": "stdout",
     "output_type": "stream",
     "text": [
      "iteration 0 => Loss: 0.6931471805599453\n",
      "iteration 1 => Loss: 0.3567318414384479\n",
      "iteration 2 => Loss: 0.31666377963270576\n",
      "iteration 3 => Loss: 0.2911504634893443\n",
      "iteration 4 => Loss: 0.2765960861042577\n",
      "iteration 5 => Loss: 0.26735343458995414\n",
      "iteration 6 => Loss: 0.2600121742589808\n",
      "iteration 7 => Loss: 0.25351623264847567\n",
      "iteration 8 => Loss: 0.24761733215975187\n",
      "iteration 9 => Loss: 0.24222308078521793\n",
      "iteration 10 => Loss: 0.23727009871388582\n",
      "iteration 11 => Loss: 0.2327057970704366\n",
      "iteration 12 => Loss: 0.22848517546840993\n",
      "iteration 13 => Loss: 0.2245695521839712\n",
      "iteration 14 => Loss: 0.22092562729735515\n",
      "iteration 15 => Loss: 0.21752467988684743\n",
      "iteration 16 => Loss: 0.21434187270222288\n",
      "iteration 17 => Loss: 0.21135565655391808\n",
      "iteration 18 => Loss: 0.20854726576180635\n",
      "iteration 19 => Loss: 0.2059002940936009\n",
      "iteration 20 => Loss: 0.20340034002302046\n",
      "iteration 21 => Loss: 0.20103471061455364\n",
      "iteration 22 => Loss: 0.19879217440056596\n",
      "iteration 23 => Loss: 0.1966627548948389\n",
      "iteration 24 => Loss: 0.19463755767063473\n",
      "iteration 25 => Loss: 0.19270862511234796\n",
      "iteration 26 => Loss: 0.19086881398310487\n",
      "iteration 27 => Loss: 0.18911169182741464\n",
      "iteration 28 => Loss: 0.18743144895738065\n",
      "iteration 29 => Loss: 0.1858228233701334\n",
      "iteration 30 => Loss: 0.18428103643233928\n",
      "iteration 31 => Loss: 0.18280173756350696\n",
      "iteration 32 => Loss: 0.18138095647001182\n",
      "iteration 33 => Loss: 0.18001506174056123\n",
      "iteration 34 => Loss: 0.17870072482311458\n",
      "iteration 35 => Loss: 0.1774348885727798\n",
      "iteration 36 => Loss: 0.1762147396978118\n",
      "iteration 37 => Loss: 0.17503768454285384\n",
      "iteration 38 => Loss: 0.1739013277400479\n",
      "iteration 39 => Loss: 0.17280345333361843\n",
      "iteration 40 => Loss: 0.17174200804521927\n",
      "iteration 41 => Loss: 0.170715086398271\n",
      "iteration 42 => Loss: 0.16972091746175177\n",
      "iteration 43 => Loss: 0.16875785300905782\n",
      "iteration 44 => Loss: 0.1678243569169255\n",
      "iteration 45 => Loss: 0.16691899565404741\n",
      "iteration 46 => Loss: 0.16604042972976565\n",
      "iteration 47 => Loss: 0.16518740599075918\n",
      "iteration 48 => Loss: 0.1643587506685158\n",
      "iteration 49 => Loss: 0.16355336309303728\n",
      "iteration 50 => Loss: 0.1627702099990341\n",
      "iteration 51 => Loss: 0.16200832036012608\n",
      "iteration 52 => Loss: 0.16126678069452066\n",
      "iteration 53 => Loss: 0.16054473079249773\n",
      "iteration 54 => Loss: 0.1598413598219539\n",
      "iteration 55 => Loss: 0.15915590277339603\n",
      "iteration 56 => Loss: 0.15848763721023285\n",
      "iteration 57 => Loss: 0.15783588029409923\n",
      "iteration 58 => Loss: 0.1571999860583402\n",
      "iteration 59 => Loss: 0.15657934290574807\n",
      "iteration 60 => Loss: 0.1559733713092487\n",
      "iteration 61 => Loss: 0.15538152169652056\n",
      "iteration 62 => Loss: 0.1548032725015406\n",
      "iteration 63 => Loss: 0.1542381283678306\n",
      "iteration 64 => Loss: 0.15368561848974252\n",
      "iteration 65 => Loss: 0.1531452950795154\n",
      "iteration 66 => Loss: 0.1526167319490647\n",
      "iteration 67 => Loss: 0.1520995231965623\n",
      "iteration 68 => Loss: 0.15159328198883715\n",
      "iteration 69 => Loss: 0.15109763943149604\n",
      "iteration 70 => Loss: 0.15061224351943756\n",
      "iteration 71 => Loss: 0.15013675816112404\n",
      "iteration 72 => Loss: 0.14967086227059728\n",
      "iteration 73 => Loss: 0.14921424892177737\n",
      "iteration 74 => Loss: 0.14876662456008244\n",
      "iteration 75 => Loss: 0.14832770826685632\n",
      "iteration 76 => Loss: 0.1478972310724916\n",
      "iteration 77 => Loss: 0.14747493531449973\n",
      "iteration 78 => Loss: 0.14706057403710668\n",
      "iteration 79 => Loss: 0.14665391042924805\n",
      "iteration 80 => Loss: 0.14625471729810424\n",
      "iteration 81 => Loss: 0.14586277657555854\n",
      "iteration 82 => Loss: 0.14547787885517904\n",
      "iteration 83 => Loss: 0.14509982295752444\n",
      "iteration 84 => Loss: 0.14472841552175408\n",
      "iteration 85 => Loss: 0.14436347062168522\n",
      "iteration 86 => Loss: 0.1440048094045911\n",
      "iteration 87 => Loss: 0.1436522597511675\n",
      "iteration 88 => Loss: 0.14330565595522013\n",
      "iteration 89 => Loss: 0.1429648384217375\n",
      "iteration 90 => Loss: 0.14262965338211656\n",
      "iteration 91 => Loss: 0.14229995262540332\n",
      "iteration 92 => Loss: 0.14197559324449602\n",
      "iteration 93 => Loss: 0.14165643739633743\n",
      "iteration 94 => Loss: 0.14134235207519485\n",
      "iteration 95 => Loss: 0.14103320889819362\n",
      "iteration 96 => Loss: 0.14072888390232888\n",
      "iteration 97 => Loss: 0.1404292573522375\n",
      "iteration 98 => Loss: 0.140134213558064\n",
      "iteration 99 => Loss: 0.13984364070279884\n",
      "iteration 100 => Loss: 0.1395574306785144\n",
      "iteration 101 => Loss: 0.1392754789309612\n",
      "iteration 102 => Loss: 0.13899768431202525\n",
      "iteration 103 => Loss: 0.13872394893958148\n",
      "iteration 104 => Loss: 0.13845417806430887\n",
      "iteration 105 => Loss: 0.1381882799430632\n",
      "iteration 106 => Loss: 0.13792616571842892\n",
      "iteration 107 => Loss: 0.13766774930409742\n",
      "iteration 108 => Loss: 0.1374129472757421\n",
      "iteration 109 => Loss: 0.13716167876708113\n",
      "iteration 110 => Loss: 0.13691386537083972\n",
      "iteration 111 => Loss: 0.1366694310443411\n",
      "iteration 112 => Loss: 0.13642830201947315\n",
      "iteration 113 => Loss: 0.13619040671679378\n",
      "iteration 114 => Loss: 0.1359556756635509\n",
      "iteration 115 => Loss: 0.1357240414154097\n",
      "iteration 116 => Loss: 0.1354954384816902\n",
      "iteration 117 => Loss: 0.13526980325393076\n",
      "iteration 118 => Loss: 0.1350470739376043\n",
      "iteration 119 => Loss: 0.13482719048682473\n",
      "iteration 120 => Loss: 0.13461009454188994\n",
      "iteration 121 => Loss: 0.1343957293695171\n",
      "iteration 122 => Loss: 0.13418403980563456\n",
      "iteration 123 => Loss: 0.13397497220060217\n",
      "iteration 124 => Loss: 0.1337684743667395\n",
      "iteration 125 => Loss: 0.13356449552804808\n",
      "iteration 126 => Loss: 0.1333629862720202\n",
      "iteration 127 => Loss: 0.13316389850343271\n",
      "iteration 128 => Loss: 0.13296718540003086\n",
      "iteration 129 => Loss: 0.13277280137001068\n",
      "iteration 130 => Loss: 0.1325807020112155\n",
      "iteration 131 => Loss: 0.1323908440719644\n",
      "iteration 132 => Loss: 0.1322031854134379\n",
      "iteration 133 => Loss: 0.1320176849735467\n",
      "iteration 134 => Loss: 0.13183430273221655\n",
      "iteration 135 => Loss: 0.1316529996780229\n",
      "iteration 136 => Loss: 0.13147373777611512\n",
      "iteration 137 => Loss: 0.13129647993737126\n",
      "iteration 138 => Loss: 0.13112118998872815\n",
      "iteration 139 => Loss: 0.13094783264463472\n",
      "iteration 140 => Loss: 0.1307763734795787\n",
      "iteration 141 => Loss: 0.13060677890163896\n",
      "iteration 142 => Loss: 0.1304390161270196\n",
      "iteration 143 => Loss: 0.13027305315552232\n",
      "iteration 144 => Loss: 0.13010885874691713\n",
      "iteration 145 => Loss: 0.1299464023981727\n",
      "iteration 146 => Loss: 0.1297856543215095\n",
      "iteration 147 => Loss: 0.1296265854232417\n",
      "iteration 148 => Loss: 0.1294691672833738\n",
      "iteration 149 => Loss: 0.12931337213592073\n",
      "iteration 150 => Loss: 0.12915917284992223\n",
      "iteration 151 => Loss: 0.1290065429111212\n",
      "iteration 152 => Loss: 0.12885545640428062\n",
      "iteration 153 => Loss: 0.12870588799611166\n",
      "iteration 154 => Loss: 0.12855781291878907\n",
      "iteration 155 => Loss: 0.12841120695402977\n",
      "iteration 156 => Loss: 0.12826604641771244\n",
      "iteration 157 => Loss: 0.12812230814501618\n",
      "iteration 158 => Loss: 0.1279799694760583\n",
      "iteration 159 => Loss: 0.1278390082420111\n",
      "iteration 160 => Loss: 0.12769940275167938\n",
      "iteration 161 => Loss: 0.12756113177852038\n",
      "iteration 162 => Loss: 0.1274241745480894\n",
      "iteration 163 => Loss: 0.1272885107258948\n",
      "iteration 164 => Loss: 0.12715412040564636\n",
      "iteration 165 => Loss: 0.12702098409788246\n",
      "iteration 166 => Loss: 0.12688908271896177\n",
      "iteration 167 => Loss: 0.12675839758040552\n",
      "iteration 168 => Loss: 0.12662891037857765\n",
      "iteration 169 => Loss: 0.12650060318469009\n",
      "iteration 170 => Loss: 0.12637345843512096\n",
      "iteration 171 => Loss: 0.1262474589220348\n",
      "iteration 172 => Loss: 0.1261225877842933\n",
      "iteration 173 => Loss: 0.12599882849864624\n",
      "iteration 174 => Loss: 0.1258761648711924\n",
      "iteration 175 => Loss: 0.125754581029101\n",
      "iteration 176 => Loss: 0.12563406141258393\n",
      "iteration 177 => Loss: 0.12551459076711044\n",
      "iteration 178 => Loss: 0.12539615413585517\n",
      "iteration 179 => Loss: 0.1252787368523718\n",
      "iteration 180 => Loss: 0.12516232453348425\n",
      "iteration 181 => Loss: 0.12504690307238733\n",
      "iteration 182 => Loss: 0.124932458631951\n",
      "iteration 183 => Loss: 0.12481897763821963\n",
      "iteration 184 => Loss: 0.1247064467741005\n",
      "iteration 185 => Loss: 0.12459485297323529\n",
      "iteration 186 => Loss: 0.1244841834140473\n",
      "iteration 187 => Loss: 0.12437442551395975\n",
      "iteration 188 => Loss: 0.12426556692377864\n",
      "iteration 189 => Loss: 0.12415759552223485\n",
      "iteration 190 => Loss: 0.1240504994106802\n",
      "iteration 191 => Loss: 0.12394426690793243\n",
      "iteration 192 => Loss: 0.12383888654526444\n",
      "iteration 193 => Loss: 0.12373434706153234\n",
      "iteration 194 => Loss: 0.12363063739843871\n",
      "iteration 195 => Loss: 0.12352774669592605\n",
      "iteration 196 => Loss: 0.1234256642876964\n",
      "iteration 197 => Loss: 0.12332437969685328\n",
      "iteration 198 => Loss: 0.1232238826316617\n",
      "iteration 199 => Loss: 0.12312416298142285\n"
     ]
    }
   ],
   "source": [
    "[w, losses] = train(X_train_select, Y_train_select, iterations=200, lr=4e-6)"
   ]
  },
  {
   "cell_type": "code",
   "execution_count": 29,
   "id": "34dc4d16",
   "metadata": {},
   "outputs": [
    {
     "data": {
      "text/plain": [
       "[<matplotlib.lines.Line2D at 0x10839f390>]"
      ]
     },
     "execution_count": 29,
     "metadata": {},
     "output_type": "execute_result"
    },
    {
     "data": {
      "image/png": "[encoded data removed]",
      "text/plain": [
       "<Figure size 640x480 with 1 Axes>"
      ]
     },
     "metadata": {},
     "output_type": "display_data"
    }
   ],
   "source": [
    "plt.plot(losses)"
   ]
  },
  {
   "cell_type": "code",
   "execution_count": null,
   "id": "3f22c23a",
   "metadata": {},
   "outputs": [],
   "source": []
  }
 ],
 "metadata": {
  "kernelspec": {
   "display_name": "Python 3",
   "language": "python",
   "name": "python3"
  },
  "language_info": {
   "codemirror_mode": {
    "name": "ipython",
    "version": 3
   },
   "file_extension": ".py",
   "mimetype": "text/x-python",
   "name": "python",
   "nbconvert_exporter": "python",
   "pygments_lexer": "ipython3",
   "version": "3.13.0"
  }
 },
 "nbformat": 4,
 "nbformat_minor": 5
}
